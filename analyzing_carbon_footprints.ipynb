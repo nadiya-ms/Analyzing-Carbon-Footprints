{
 "cells": [
  {
   "cell_type": "code",
   "execution_count": 14,
   "id": "e3852ea4",
   "metadata": {},
   "outputs": [],
   "source": [
    "import pandas as pd\n",
    "import numpy as np\n",
    "import seaborn as sns\n",
    "import matplotlib.pyplot as plt\n",
    "import plotly.express as px"
   ]
  },
  {
   "cell_type": "markdown",
   "id": "2671a475",
   "metadata": {},
   "source": [
    "## EDA"
   ]
  },
  {
   "cell_type": "code",
   "execution_count": 2,
   "id": "f8aa1722",
   "metadata": {},
   "outputs": [
    {
     "data": {
      "text/html": [
       "<div>\n",
       "<style scoped>\n",
       "    .dataframe tbody tr th:only-of-type {\n",
       "        vertical-align: middle;\n",
       "    }\n",
       "\n",
       "    .dataframe tbody tr th {\n",
       "        vertical-align: top;\n",
       "    }\n",
       "\n",
       "    .dataframe thead th {\n",
       "        text-align: right;\n",
       "    }\n",
       "</style>\n",
       "<table border=\"1\" class=\"dataframe\">\n",
       "  <thead>\n",
       "    <tr style=\"text-align: right;\">\n",
       "      <th></th>\n",
       "      <th>id</th>\n",
       "      <th>year</th>\n",
       "      <th>product_name</th>\n",
       "      <th>company</th>\n",
       "      <th>country</th>\n",
       "      <th>industry_group</th>\n",
       "      <th>weight_kg</th>\n",
       "      <th>carbon_footprint_pcf</th>\n",
       "      <th>upstream_percent_total_pcf</th>\n",
       "      <th>operations_percent_total_pcf</th>\n",
       "      <th>downstream_percent_total_pcf</th>\n",
       "    </tr>\n",
       "  </thead>\n",
       "  <tbody>\n",
       "    <tr>\n",
       "      <th>0</th>\n",
       "      <td>10056-1-2014</td>\n",
       "      <td>2014</td>\n",
       "      <td>Frosted Flakes(R) Cereal</td>\n",
       "      <td>Kellogg Company</td>\n",
       "      <td>USA</td>\n",
       "      <td>Food, Beverage &amp; Tobacco</td>\n",
       "      <td>0.7485</td>\n",
       "      <td>2.00</td>\n",
       "      <td>57.50%</td>\n",
       "      <td>30.00%</td>\n",
       "      <td>12.50%</td>\n",
       "    </tr>\n",
       "    <tr>\n",
       "      <th>1</th>\n",
       "      <td>10056-1-2015</td>\n",
       "      <td>2015</td>\n",
       "      <td>Frosted Flakes, 23 oz, produced in Lancaster, ...</td>\n",
       "      <td>Kellogg Company</td>\n",
       "      <td>USA</td>\n",
       "      <td>Food &amp; Beverage Processing</td>\n",
       "      <td>0.7485</td>\n",
       "      <td>2.00</td>\n",
       "      <td>57.50%</td>\n",
       "      <td>30.00%</td>\n",
       "      <td>12.50%</td>\n",
       "    </tr>\n",
       "    <tr>\n",
       "      <th>2</th>\n",
       "      <td>10222-1-2013</td>\n",
       "      <td>2013</td>\n",
       "      <td>Office Chair</td>\n",
       "      <td>KNOLL INC</td>\n",
       "      <td>USA</td>\n",
       "      <td>Capital Goods</td>\n",
       "      <td>20.6800</td>\n",
       "      <td>72.54</td>\n",
       "      <td>80.63%</td>\n",
       "      <td>17.36%</td>\n",
       "      <td>2.01%</td>\n",
       "    </tr>\n",
       "    <tr>\n",
       "      <th>3</th>\n",
       "      <td>10261-1-2017</td>\n",
       "      <td>2017</td>\n",
       "      <td>Multifunction Printers</td>\n",
       "      <td>Konica Minolta, Inc.</td>\n",
       "      <td>Japan</td>\n",
       "      <td>Technology Hardware &amp; Equipment</td>\n",
       "      <td>110.0000</td>\n",
       "      <td>1488.00</td>\n",
       "      <td>30.65%</td>\n",
       "      <td>5.51%</td>\n",
       "      <td>63.84%</td>\n",
       "    </tr>\n",
       "    <tr>\n",
       "      <th>4</th>\n",
       "      <td>10261-2-2017</td>\n",
       "      <td>2017</td>\n",
       "      <td>Multifunction Printers</td>\n",
       "      <td>Konica Minolta, Inc.</td>\n",
       "      <td>Japan</td>\n",
       "      <td>Technology Hardware &amp; Equipment</td>\n",
       "      <td>110.0000</td>\n",
       "      <td>1818.00</td>\n",
       "      <td>25.08%</td>\n",
       "      <td>4.51%</td>\n",
       "      <td>70.41%</td>\n",
       "    </tr>\n",
       "  </tbody>\n",
       "</table>\n",
       "</div>"
      ],
      "text/plain": [
       "             id  year                                       product_name  \\\n",
       "0  10056-1-2014  2014                           Frosted Flakes(R) Cereal   \n",
       "1  10056-1-2015  2015  Frosted Flakes, 23 oz, produced in Lancaster, ...   \n",
       "2  10222-1-2013  2013                                       Office Chair   \n",
       "3  10261-1-2017  2017                             Multifunction Printers   \n",
       "4  10261-2-2017  2017                             Multifunction Printers   \n",
       "\n",
       "                company country                   industry_group  weight_kg  \\\n",
       "0       Kellogg Company     USA         Food, Beverage & Tobacco     0.7485   \n",
       "1       Kellogg Company     USA       Food & Beverage Processing     0.7485   \n",
       "2             KNOLL INC     USA                    Capital Goods    20.6800   \n",
       "3  Konica Minolta, Inc.   Japan  Technology Hardware & Equipment   110.0000   \n",
       "4  Konica Minolta, Inc.   Japan  Technology Hardware & Equipment   110.0000   \n",
       "\n",
       "   carbon_footprint_pcf upstream_percent_total_pcf  \\\n",
       "0                  2.00                     57.50%   \n",
       "1                  2.00                     57.50%   \n",
       "2                 72.54                     80.63%   \n",
       "3               1488.00                     30.65%   \n",
       "4               1818.00                     25.08%   \n",
       "\n",
       "  operations_percent_total_pcf downstream_percent_total_pcf  \n",
       "0                       30.00%                       12.50%  \n",
       "1                       30.00%                       12.50%  \n",
       "2                       17.36%                        2.01%  \n",
       "3                        5.51%                       63.84%  \n",
       "4                        4.51%                       70.41%  "
      ]
     },
     "execution_count": 2,
     "metadata": {},
     "output_type": "execute_result"
    }
   ],
   "source": [
    "product_emissions_df = pd.read_csv('product_emissions.csv', sep=';')\n",
    "product_emissions_df.head()"
   ]
  },
  {
   "cell_type": "code",
   "execution_count": 3,
   "id": "e3b4aff6",
   "metadata": {},
   "outputs": [
    {
     "data": {
      "text/plain": [
       "(866, 11)"
      ]
     },
     "execution_count": 3,
     "metadata": {},
     "output_type": "execute_result"
    }
   ],
   "source": [
    "product_emissions_df.shape"
   ]
  },
  {
   "cell_type": "code",
   "execution_count": 4,
   "id": "e5e48497",
   "metadata": {},
   "outputs": [
    {
     "name": "stdout",
     "output_type": "stream",
     "text": [
      "<class 'pandas.core.frame.DataFrame'>\n",
      "RangeIndex: 866 entries, 0 to 865\n",
      "Data columns (total 11 columns):\n",
      " #   Column                        Non-Null Count  Dtype  \n",
      "---  ------                        --------------  -----  \n",
      " 0   id                            866 non-null    object \n",
      " 1   year                          866 non-null    int64  \n",
      " 2   product_name                  866 non-null    object \n",
      " 3   company                       866 non-null    object \n",
      " 4   country                       866 non-null    object \n",
      " 5   industry_group                866 non-null    object \n",
      " 6   weight_kg                     866 non-null    float64\n",
      " 7   carbon_footprint_pcf          866 non-null    float64\n",
      " 8   upstream_percent_total_pcf    866 non-null    object \n",
      " 9   operations_percent_total_pcf  866 non-null    object \n",
      " 10  downstream_percent_total_pcf  866 non-null    object \n",
      "dtypes: float64(2), int64(1), object(8)\n",
      "memory usage: 74.6+ KB\n"
     ]
    }
   ],
   "source": [
    "product_emissions_df.info()"
   ]
  },
  {
   "cell_type": "code",
   "execution_count": 5,
   "id": "49487411",
   "metadata": {},
   "outputs": [
    {
     "name": "stdout",
     "output_type": "stream",
     "text": [
      "Empty DataFrame\n",
      "Columns: [id, year, product_name, company, country, industry_group, weight_kg, carbon_footprint_pcf, upstream_percent_total_pcf, operations_percent_total_pcf, downstream_percent_total_pcf]\n",
      "Index: []\n"
     ]
    }
   ],
   "source": [
    "duplicates = product_emissions_df[product_emissions_df.duplicated()]\n",
    "print(duplicates)"
   ]
  },
  {
   "cell_type": "code",
   "execution_count": 6,
   "id": "b85058db",
   "metadata": {},
   "outputs": [
    {
     "name": "stdout",
     "output_type": "stream",
     "text": [
      "Index(['id', 'year', 'product_name', 'company', 'country', 'industry_group',\n",
      "       'weight_kg', 'carbon_footprint_pcf', 'upstream_percent_total_pcf',\n",
      "       'operations_percent_total_pcf', 'downstream_percent_total_pcf'],\n",
      "      dtype='object')\n"
     ]
    }
   ],
   "source": [
    "print(product_emissions_df.columns)"
   ]
  },
  {
   "cell_type": "markdown",
   "id": "cc5959bb",
   "metadata": {},
   "source": [
    "## 2: Time range of the data \n",
    "- Return the years for which data was collected."
   ]
  },
  {
   "cell_type": "code",
   "execution_count": 7,
   "id": "c49f3282",
   "metadata": {},
   "outputs": [
    {
     "name": "stdout",
     "output_type": "stream",
     "text": [
      "Min Year: 2013\n",
      "Max Year: 2017\n"
     ]
    }
   ],
   "source": [
    "min_year = product_emissions_df['year'].min()\n",
    "max_year = product_emissions_df['year'].max()\n",
    "\n",
    "print(\"Min Year:\", min_year)\n",
    "print(\"Max Year:\", max_year)"
   ]
  },
  {
   "cell_type": "markdown",
   "id": "3711853f",
   "metadata": {},
   "source": [
    "## 3: Targeting major emmiters\n",
    "- Which countries had the highest emissions during the period 2013–2017? Grouping by country, select `country` and the sum of `total carbon_footprint_pcf` by country, aliasing as `total_country_footprint`.\n",
    "- Let's take a look at emissions by country and look at country representation in the dataset by creating a bar chart using the `country` column of `product_emissions_df`."
   ]
  },
  {
   "cell_type": "code",
   "execution_count": 8,
   "id": "312e5334",
   "metadata": {},
   "outputs": [
    {
     "data": {
      "text/html": [
       "<div>\n",
       "<style scoped>\n",
       "    .dataframe tbody tr th:only-of-type {\n",
       "        vertical-align: middle;\n",
       "    }\n",
       "\n",
       "    .dataframe tbody tr th {\n",
       "        vertical-align: top;\n",
       "    }\n",
       "\n",
       "    .dataframe thead th {\n",
       "        text-align: right;\n",
       "    }\n",
       "</style>\n",
       "<table border=\"1\" class=\"dataframe\">\n",
       "  <thead>\n",
       "    <tr style=\"text-align: right;\">\n",
       "      <th></th>\n",
       "      <th>country</th>\n",
       "      <th>total_country_footprint</th>\n",
       "    </tr>\n",
       "  </thead>\n",
       "  <tbody>\n",
       "    <tr>\n",
       "      <th>22</th>\n",
       "      <td>Spain</td>\n",
       "      <td>9.786126e+06</td>\n",
       "    </tr>\n",
       "    <tr>\n",
       "      <th>9</th>\n",
       "      <td>Germany</td>\n",
       "      <td>2.251225e+06</td>\n",
       "    </tr>\n",
       "    <tr>\n",
       "      <th>15</th>\n",
       "      <td>Japan</td>\n",
       "      <td>5.193443e+05</td>\n",
       "    </tr>\n",
       "    <tr>\n",
       "      <th>26</th>\n",
       "      <td>USA</td>\n",
       "      <td>4.518692e+05</td>\n",
       "    </tr>\n",
       "    <tr>\n",
       "      <th>2</th>\n",
       "      <td>Brazil</td>\n",
       "      <td>1.675877e+05</td>\n",
       "    </tr>\n",
       "    <tr>\n",
       "      <th>17</th>\n",
       "      <td>Luxembourg</td>\n",
       "      <td>1.670073e+05</td>\n",
       "    </tr>\n",
       "    <tr>\n",
       "      <th>21</th>\n",
       "      <td>South Korea</td>\n",
       "      <td>1.409941e+05</td>\n",
       "    </tr>\n",
       "    <tr>\n",
       "      <th>19</th>\n",
       "      <td>Netherlands</td>\n",
       "      <td>7.041534e+04</td>\n",
       "    </tr>\n",
       "    <tr>\n",
       "      <th>25</th>\n",
       "      <td>Taiwan</td>\n",
       "      <td>6.151307e+04</td>\n",
       "    </tr>\n",
       "    <tr>\n",
       "      <th>11</th>\n",
       "      <td>India</td>\n",
       "      <td>2.457400e+04</td>\n",
       "    </tr>\n",
       "    <tr>\n",
       "      <th>7</th>\n",
       "      <td>Finland</td>\n",
       "      <td>2.158100e+04</td>\n",
       "    </tr>\n",
       "    <tr>\n",
       "      <th>20</th>\n",
       "      <td>South Africa</td>\n",
       "      <td>1.231090e+04</td>\n",
       "    </tr>\n",
       "    <tr>\n",
       "      <th>27</th>\n",
       "      <td>United Kingdom</td>\n",
       "      <td>6.735140e+03</td>\n",
       "    </tr>\n",
       "    <tr>\n",
       "      <th>13</th>\n",
       "      <td>Ireland</td>\n",
       "      <td>5.130000e+03</td>\n",
       "    </tr>\n",
       "    <tr>\n",
       "      <th>23</th>\n",
       "      <td>Sweden</td>\n",
       "      <td>4.533010e+03</td>\n",
       "    </tr>\n",
       "    <tr>\n",
       "      <th>8</th>\n",
       "      <td>France</td>\n",
       "      <td>1.613803e+03</td>\n",
       "    </tr>\n",
       "    <tr>\n",
       "      <th>4</th>\n",
       "      <td>Chile</td>\n",
       "      <td>1.555600e+03</td>\n",
       "    </tr>\n",
       "    <tr>\n",
       "      <th>12</th>\n",
       "      <td>Indonesia</td>\n",
       "      <td>7.210000e+02</td>\n",
       "    </tr>\n",
       "    <tr>\n",
       "      <th>3</th>\n",
       "      <td>Canada</td>\n",
       "      <td>3.822000e+02</td>\n",
       "    </tr>\n",
       "    <tr>\n",
       "      <th>0</th>\n",
       "      <td>Australia</td>\n",
       "      <td>2.384670e+02</td>\n",
       "    </tr>\n",
       "    <tr>\n",
       "      <th>18</th>\n",
       "      <td>Malaysia</td>\n",
       "      <td>2.336700e+02</td>\n",
       "    </tr>\n",
       "    <tr>\n",
       "      <th>5</th>\n",
       "      <td>China</td>\n",
       "      <td>1.425430e+02</td>\n",
       "    </tr>\n",
       "    <tr>\n",
       "      <th>24</th>\n",
       "      <td>Switzerland</td>\n",
       "      <td>1.406263e+02</td>\n",
       "    </tr>\n",
       "    <tr>\n",
       "      <th>14</th>\n",
       "      <td>Italy</td>\n",
       "      <td>1.940500e+01</td>\n",
       "    </tr>\n",
       "    <tr>\n",
       "      <th>1</th>\n",
       "      <td>Belgium</td>\n",
       "      <td>9.400000e+00</td>\n",
       "    </tr>\n",
       "    <tr>\n",
       "      <th>10</th>\n",
       "      <td>Greece</td>\n",
       "      <td>7.000000e-01</td>\n",
       "    </tr>\n",
       "    <tr>\n",
       "      <th>16</th>\n",
       "      <td>Lithuania</td>\n",
       "      <td>1.080000e-02</td>\n",
       "    </tr>\n",
       "    <tr>\n",
       "      <th>6</th>\n",
       "      <td>Colombia</td>\n",
       "      <td>8.300000e-04</td>\n",
       "    </tr>\n",
       "  </tbody>\n",
       "</table>\n",
       "</div>"
      ],
      "text/plain": [
       "           country  total_country_footprint\n",
       "22           Spain             9.786126e+06\n",
       "9          Germany             2.251225e+06\n",
       "15           Japan             5.193443e+05\n",
       "26             USA             4.518692e+05\n",
       "2           Brazil             1.675877e+05\n",
       "17      Luxembourg             1.670073e+05\n",
       "21     South Korea             1.409941e+05\n",
       "19     Netherlands             7.041534e+04\n",
       "25          Taiwan             6.151307e+04\n",
       "11           India             2.457400e+04\n",
       "7          Finland             2.158100e+04\n",
       "20    South Africa             1.231090e+04\n",
       "27  United Kingdom             6.735140e+03\n",
       "13         Ireland             5.130000e+03\n",
       "23          Sweden             4.533010e+03\n",
       "8           France             1.613803e+03\n",
       "4            Chile             1.555600e+03\n",
       "12       Indonesia             7.210000e+02\n",
       "3           Canada             3.822000e+02\n",
       "0        Australia             2.384670e+02\n",
       "18        Malaysia             2.336700e+02\n",
       "5            China             1.425430e+02\n",
       "24     Switzerland             1.406263e+02\n",
       "14           Italy             1.940500e+01\n",
       "1          Belgium             9.400000e+00\n",
       "10          Greece             7.000000e-01\n",
       "16       Lithuania             1.080000e-02\n",
       "6         Colombia             8.300000e-04"
      ]
     },
     "execution_count": 8,
     "metadata": {},
     "output_type": "execute_result"
    }
   ],
   "source": [
    "country_footprint = (\n",
    "    product_emissions_df\n",
    "    .groupby(\"country\")[\"carbon_footprint_pcf\"]\n",
    "    .sum()\n",
    "    .reset_index()\n",
    "    .rename(columns={\"carbon_footprint_pcf\": \"total_country_footprint\"})\n",
    "    .sort_values(by=\"total_country_footprint\", ascending=False)\n",
    ")\n",
    "country_footprint.columns = [\"country\", \"total_country_footprint\"]\n",
    "country_footprint"
   ]
  },
  {
   "cell_type": "code",
   "execution_count": 9,
   "id": "c460a40c",
   "metadata": {},
   "outputs": [
    {
     "name": "stdout",
     "output_type": "stream",
     "text": [
      "           country  total_country_footprint\n",
      "0            Spain                9786126.2\n",
      "1          Germany                2251224.9\n",
      "2            Japan                 519344.3\n",
      "3              USA                 451869.2\n",
      "4           Brazil                 167587.7\n",
      "5       Luxembourg                 167007.3\n",
      "6      South Korea                 140994.1\n",
      "7      Netherlands                  70415.3\n",
      "8           Taiwan                  61513.1\n",
      "9            India                  24574.0\n",
      "10         Finland                  21581.0\n",
      "11    South Africa                  12310.9\n",
      "12  United Kingdom                   6735.1\n",
      "13         Ireland                   5130.0\n",
      "14          Sweden                   4533.0\n",
      "15          France                   1613.8\n",
      "16           Chile                   1555.6\n",
      "17       Indonesia                    721.0\n",
      "18          Canada                    382.2\n",
      "19       Australia                    238.5\n",
      "20        Malaysia                    233.7\n",
      "21           China                    142.5\n",
      "22     Switzerland                    140.6\n",
      "23           Italy                     19.4\n",
      "24         Belgium                      9.4\n",
      "25          Greece                      0.7\n",
      "26       Lithuania                      0.0\n",
      "27        Colombia                      0.0\n"
     ]
    }
   ],
   "source": [
    "# Group by 'country', sum 'carbon_footprint_pcf', round to 1 decimal, and sort descending\n",
    "emissions_by_country = (\n",
    "    product_emissions_df\n",
    "    .groupby('country')['carbon_footprint_pcf']\n",
    "    .sum()\n",
    "    .round(1)\n",
    "    .to_frame()\n",
    "    .rename(columns={\"carbon_footprint_pcf\": \"total_country_footprint\"})\n",
    "    .sort_values(by='total_country_footprint', ascending=False)\n",
    "    .reset_index()\n",
    ")\n",
    "\n",
    "print(emissions_by_country)"
   ]
  },
  {
   "cell_type": "code",
   "execution_count": 11,
   "id": "665d09c9",
   "metadata": {},
   "outputs": [
    {
     "data": {
      "application/vnd.plotly.v1+json": {
       "config": {
        "plotlyServerURL": "https://plot.ly"
       },
       "data": [
        {
         "alignmentgroup": "True",
         "hovertemplate": "country=%{x}<br>total_country_footprint=%{y}<extra></extra>",
         "legendgroup": "",
         "marker": {
          "color": "#636efa",
          "pattern": {
           "shape": ""
          }
         },
         "name": "",
         "offsetgroup": "",
         "orientation": "v",
         "showlegend": false,
         "textposition": "auto",
         "type": "bar",
         "x": [
          "Spain",
          "Germany",
          "Japan",
          "USA",
          "Brazil",
          "Luxembourg",
          "South Korea",
          "Netherlands",
          "Taiwan",
          "India",
          "Finland",
          "South Africa",
          "United Kingdom",
          "Ireland",
          "Sweden",
          "France",
          "Chile",
          "Indonesia",
          "Canada",
          "Australia",
          "Malaysia",
          "China",
          "Switzerland",
          "Italy",
          "Belgium",
          "Greece",
          "Lithuania",
          "Colombia"
         ],
         "xaxis": "x",
         "y": [
          9786126.2,
          2251224.9,
          519344.3,
          451869.2,
          167587.7,
          167007.3,
          140994.1,
          70415.3,
          61513.1,
          24574,
          21581,
          12310.9,
          6735.1,
          5130,
          4533,
          1613.8,
          1555.6,
          721,
          382.2,
          238.5,
          233.7,
          142.5,
          140.6,
          19.4,
          9.4,
          0.7,
          0,
          0
         ],
         "yaxis": "y"
        }
       ],
       "layout": {
        "barmode": "relative",
        "legend": {
         "tracegroupgap": 0
        },
        "template": {
         "data": {
          "bar": [
           {
            "error_x": {
             "color": "#2a3f5f"
            },
            "error_y": {
             "color": "#2a3f5f"
            },
            "marker": {
             "line": {
              "color": "#E5ECF6",
              "width": 0.5
             },
             "pattern": {
              "fillmode": "overlay",
              "size": 10,
              "solidity": 0.2
             }
            },
            "type": "bar"
           }
          ],
          "barpolar": [
           {
            "marker": {
             "line": {
              "color": "#E5ECF6",
              "width": 0.5
             },
             "pattern": {
              "fillmode": "overlay",
              "size": 10,
              "solidity": 0.2
             }
            },
            "type": "barpolar"
           }
          ],
          "carpet": [
           {
            "aaxis": {
             "endlinecolor": "#2a3f5f",
             "gridcolor": "white",
             "linecolor": "white",
             "minorgridcolor": "white",
             "startlinecolor": "#2a3f5f"
            },
            "baxis": {
             "endlinecolor": "#2a3f5f",
             "gridcolor": "white",
             "linecolor": "white",
             "minorgridcolor": "white",
             "startlinecolor": "#2a3f5f"
            },
            "type": "carpet"
           }
          ],
          "choropleth": [
           {
            "colorbar": {
             "outlinewidth": 0,
             "ticks": ""
            },
            "type": "choropleth"
           }
          ],
          "contour": [
           {
            "colorbar": {
             "outlinewidth": 0,
             "ticks": ""
            },
            "colorscale": [
             [
              0,
              "#0d0887"
             ],
             [
              0.1111111111111111,
              "#46039f"
             ],
             [
              0.2222222222222222,
              "#7201a8"
             ],
             [
              0.3333333333333333,
              "#9c179e"
             ],
             [
              0.4444444444444444,
              "#bd3786"
             ],
             [
              0.5555555555555556,
              "#d8576b"
             ],
             [
              0.6666666666666666,
              "#ed7953"
             ],
             [
              0.7777777777777778,
              "#fb9f3a"
             ],
             [
              0.8888888888888888,
              "#fdca26"
             ],
             [
              1,
              "#f0f921"
             ]
            ],
            "type": "contour"
           }
          ],
          "contourcarpet": [
           {
            "colorbar": {
             "outlinewidth": 0,
             "ticks": ""
            },
            "type": "contourcarpet"
           }
          ],
          "heatmap": [
           {
            "colorbar": {
             "outlinewidth": 0,
             "ticks": ""
            },
            "colorscale": [
             [
              0,
              "#0d0887"
             ],
             [
              0.1111111111111111,
              "#46039f"
             ],
             [
              0.2222222222222222,
              "#7201a8"
             ],
             [
              0.3333333333333333,
              "#9c179e"
             ],
             [
              0.4444444444444444,
              "#bd3786"
             ],
             [
              0.5555555555555556,
              "#d8576b"
             ],
             [
              0.6666666666666666,
              "#ed7953"
             ],
             [
              0.7777777777777778,
              "#fb9f3a"
             ],
             [
              0.8888888888888888,
              "#fdca26"
             ],
             [
              1,
              "#f0f921"
             ]
            ],
            "type": "heatmap"
           }
          ],
          "heatmapgl": [
           {
            "colorbar": {
             "outlinewidth": 0,
             "ticks": ""
            },
            "colorscale": [
             [
              0,
              "#0d0887"
             ],
             [
              0.1111111111111111,
              "#46039f"
             ],
             [
              0.2222222222222222,
              "#7201a8"
             ],
             [
              0.3333333333333333,
              "#9c179e"
             ],
             [
              0.4444444444444444,
              "#bd3786"
             ],
             [
              0.5555555555555556,
              "#d8576b"
             ],
             [
              0.6666666666666666,
              "#ed7953"
             ],
             [
              0.7777777777777778,
              "#fb9f3a"
             ],
             [
              0.8888888888888888,
              "#fdca26"
             ],
             [
              1,
              "#f0f921"
             ]
            ],
            "type": "heatmapgl"
           }
          ],
          "histogram": [
           {
            "marker": {
             "pattern": {
              "fillmode": "overlay",
              "size": 10,
              "solidity": 0.2
             }
            },
            "type": "histogram"
           }
          ],
          "histogram2d": [
           {
            "colorbar": {
             "outlinewidth": 0,
             "ticks": ""
            },
            "colorscale": [
             [
              0,
              "#0d0887"
             ],
             [
              0.1111111111111111,
              "#46039f"
             ],
             [
              0.2222222222222222,
              "#7201a8"
             ],
             [
              0.3333333333333333,
              "#9c179e"
             ],
             [
              0.4444444444444444,
              "#bd3786"
             ],
             [
              0.5555555555555556,
              "#d8576b"
             ],
             [
              0.6666666666666666,
              "#ed7953"
             ],
             [
              0.7777777777777778,
              "#fb9f3a"
             ],
             [
              0.8888888888888888,
              "#fdca26"
             ],
             [
              1,
              "#f0f921"
             ]
            ],
            "type": "histogram2d"
           }
          ],
          "histogram2dcontour": [
           {
            "colorbar": {
             "outlinewidth": 0,
             "ticks": ""
            },
            "colorscale": [
             [
              0,
              "#0d0887"
             ],
             [
              0.1111111111111111,
              "#46039f"
             ],
             [
              0.2222222222222222,
              "#7201a8"
             ],
             [
              0.3333333333333333,
              "#9c179e"
             ],
             [
              0.4444444444444444,
              "#bd3786"
             ],
             [
              0.5555555555555556,
              "#d8576b"
             ],
             [
              0.6666666666666666,
              "#ed7953"
             ],
             [
              0.7777777777777778,
              "#fb9f3a"
             ],
             [
              0.8888888888888888,
              "#fdca26"
             ],
             [
              1,
              "#f0f921"
             ]
            ],
            "type": "histogram2dcontour"
           }
          ],
          "mesh3d": [
           {
            "colorbar": {
             "outlinewidth": 0,
             "ticks": ""
            },
            "type": "mesh3d"
           }
          ],
          "parcoords": [
           {
            "line": {
             "colorbar": {
              "outlinewidth": 0,
              "ticks": ""
             }
            },
            "type": "parcoords"
           }
          ],
          "pie": [
           {
            "automargin": true,
            "type": "pie"
           }
          ],
          "scatter": [
           {
            "fillpattern": {
             "fillmode": "overlay",
             "size": 10,
             "solidity": 0.2
            },
            "type": "scatter"
           }
          ],
          "scatter3d": [
           {
            "line": {
             "colorbar": {
              "outlinewidth": 0,
              "ticks": ""
             }
            },
            "marker": {
             "colorbar": {
              "outlinewidth": 0,
              "ticks": ""
             }
            },
            "type": "scatter3d"
           }
          ],
          "scattercarpet": [
           {
            "marker": {
             "colorbar": {
              "outlinewidth": 0,
              "ticks": ""
             }
            },
            "type": "scattercarpet"
           }
          ],
          "scattergeo": [
           {
            "marker": {
             "colorbar": {
              "outlinewidth": 0,
              "ticks": ""
             }
            },
            "type": "scattergeo"
           }
          ],
          "scattergl": [
           {
            "marker": {
             "colorbar": {
              "outlinewidth": 0,
              "ticks": ""
             }
            },
            "type": "scattergl"
           }
          ],
          "scattermapbox": [
           {
            "marker": {
             "colorbar": {
              "outlinewidth": 0,
              "ticks": ""
             }
            },
            "type": "scattermapbox"
           }
          ],
          "scatterpolar": [
           {
            "marker": {
             "colorbar": {
              "outlinewidth": 0,
              "ticks": ""
             }
            },
            "type": "scatterpolar"
           }
          ],
          "scatterpolargl": [
           {
            "marker": {
             "colorbar": {
              "outlinewidth": 0,
              "ticks": ""
             }
            },
            "type": "scatterpolargl"
           }
          ],
          "scatterternary": [
           {
            "marker": {
             "colorbar": {
              "outlinewidth": 0,
              "ticks": ""
             }
            },
            "type": "scatterternary"
           }
          ],
          "surface": [
           {
            "colorbar": {
             "outlinewidth": 0,
             "ticks": ""
            },
            "colorscale": [
             [
              0,
              "#0d0887"
             ],
             [
              0.1111111111111111,
              "#46039f"
             ],
             [
              0.2222222222222222,
              "#7201a8"
             ],
             [
              0.3333333333333333,
              "#9c179e"
             ],
             [
              0.4444444444444444,
              "#bd3786"
             ],
             [
              0.5555555555555556,
              "#d8576b"
             ],
             [
              0.6666666666666666,
              "#ed7953"
             ],
             [
              0.7777777777777778,
              "#fb9f3a"
             ],
             [
              0.8888888888888888,
              "#fdca26"
             ],
             [
              1,
              "#f0f921"
             ]
            ],
            "type": "surface"
           }
          ],
          "table": [
           {
            "cells": {
             "fill": {
              "color": "#EBF0F8"
             },
             "line": {
              "color": "white"
             }
            },
            "header": {
             "fill": {
              "color": "#C8D4E3"
             },
             "line": {
              "color": "white"
             }
            },
            "type": "table"
           }
          ]
         },
         "layout": {
          "annotationdefaults": {
           "arrowcolor": "#2a3f5f",
           "arrowhead": 0,
           "arrowwidth": 1
          },
          "autotypenumbers": "strict",
          "coloraxis": {
           "colorbar": {
            "outlinewidth": 0,
            "ticks": ""
           }
          },
          "colorscale": {
           "diverging": [
            [
             0,
             "#8e0152"
            ],
            [
             0.1,
             "#c51b7d"
            ],
            [
             0.2,
             "#de77ae"
            ],
            [
             0.3,
             "#f1b6da"
            ],
            [
             0.4,
             "#fde0ef"
            ],
            [
             0.5,
             "#f7f7f7"
            ],
            [
             0.6,
             "#e6f5d0"
            ],
            [
             0.7,
             "#b8e186"
            ],
            [
             0.8,
             "#7fbc41"
            ],
            [
             0.9,
             "#4d9221"
            ],
            [
             1,
             "#276419"
            ]
           ],
           "sequential": [
            [
             0,
             "#0d0887"
            ],
            [
             0.1111111111111111,
             "#46039f"
            ],
            [
             0.2222222222222222,
             "#7201a8"
            ],
            [
             0.3333333333333333,
             "#9c179e"
            ],
            [
             0.4444444444444444,
             "#bd3786"
            ],
            [
             0.5555555555555556,
             "#d8576b"
            ],
            [
             0.6666666666666666,
             "#ed7953"
            ],
            [
             0.7777777777777778,
             "#fb9f3a"
            ],
            [
             0.8888888888888888,
             "#fdca26"
            ],
            [
             1,
             "#f0f921"
            ]
           ],
           "sequentialminus": [
            [
             0,
             "#0d0887"
            ],
            [
             0.1111111111111111,
             "#46039f"
            ],
            [
             0.2222222222222222,
             "#7201a8"
            ],
            [
             0.3333333333333333,
             "#9c179e"
            ],
            [
             0.4444444444444444,
             "#bd3786"
            ],
            [
             0.5555555555555556,
             "#d8576b"
            ],
            [
             0.6666666666666666,
             "#ed7953"
            ],
            [
             0.7777777777777778,
             "#fb9f3a"
            ],
            [
             0.8888888888888888,
             "#fdca26"
            ],
            [
             1,
             "#f0f921"
            ]
           ]
          },
          "colorway": [
           "#636efa",
           "#EF553B",
           "#00cc96",
           "#ab63fa",
           "#FFA15A",
           "#19d3f3",
           "#FF6692",
           "#B6E880",
           "#FF97FF",
           "#FECB52"
          ],
          "font": {
           "color": "#2a3f5f"
          },
          "geo": {
           "bgcolor": "white",
           "lakecolor": "white",
           "landcolor": "#E5ECF6",
           "showlakes": true,
           "showland": true,
           "subunitcolor": "white"
          },
          "hoverlabel": {
           "align": "left"
          },
          "hovermode": "closest",
          "mapbox": {
           "style": "light"
          },
          "paper_bgcolor": "white",
          "plot_bgcolor": "#E5ECF6",
          "polar": {
           "angularaxis": {
            "gridcolor": "white",
            "linecolor": "white",
            "ticks": ""
           },
           "bgcolor": "#E5ECF6",
           "radialaxis": {
            "gridcolor": "white",
            "linecolor": "white",
            "ticks": ""
           }
          },
          "scene": {
           "xaxis": {
            "backgroundcolor": "#E5ECF6",
            "gridcolor": "white",
            "gridwidth": 2,
            "linecolor": "white",
            "showbackground": true,
            "ticks": "",
            "zerolinecolor": "white"
           },
           "yaxis": {
            "backgroundcolor": "#E5ECF6",
            "gridcolor": "white",
            "gridwidth": 2,
            "linecolor": "white",
            "showbackground": true,
            "ticks": "",
            "zerolinecolor": "white"
           },
           "zaxis": {
            "backgroundcolor": "#E5ECF6",
            "gridcolor": "white",
            "gridwidth": 2,
            "linecolor": "white",
            "showbackground": true,
            "ticks": "",
            "zerolinecolor": "white"
           }
          },
          "shapedefaults": {
           "line": {
            "color": "#2a3f5f"
           }
          },
          "ternary": {
           "aaxis": {
            "gridcolor": "white",
            "linecolor": "white",
            "ticks": ""
           },
           "baxis": {
            "gridcolor": "white",
            "linecolor": "white",
            "ticks": ""
           },
           "bgcolor": "#E5ECF6",
           "caxis": {
            "gridcolor": "white",
            "linecolor": "white",
            "ticks": ""
           }
          },
          "title": {
           "x": 0.05
          },
          "xaxis": {
           "automargin": true,
           "gridcolor": "white",
           "linecolor": "white",
           "ticks": "",
           "title": {
            "standoff": 15
           },
           "zerolinecolor": "white",
           "zerolinewidth": 2
          },
          "yaxis": {
           "automargin": true,
           "gridcolor": "white",
           "linecolor": "white",
           "ticks": "",
           "title": {
            "standoff": 15
           },
           "zerolinecolor": "white",
           "zerolinewidth": 2
          }
         }
        },
        "title": {
         "text": "Emissions by country"
        },
        "xaxis": {
         "anchor": "y",
         "domain": [
          0,
          1
         ],
         "title": {
          "text": "country"
         }
        },
        "yaxis": {
         "anchor": "x",
         "domain": [
          0,
          1
         ],
         "title": {
          "text": "total_country_footprint"
         }
        }
       }
      }
     },
     "metadata": {},
     "output_type": "display_data"
    }
   ],
   "source": [
    "# Create a plotly bar chart of the country distribution for companies in dataset\n",
    "fig = px.bar(emissions_by_country, x=\"country\", y=\"total_country_footprint\", title=\"Emissions by country\")\n",
    "fig.show()"
   ]
  },
  {
   "cell_type": "code",
   "execution_count": 32,
   "id": "65dd4542",
   "metadata": {},
   "outputs": [
    {
     "data": {
      "image/png": "[encoded data removed]",
      "text/plain": [
       "<Figure size 1000x600 with 1 Axes>"
      ]
     },
     "metadata": {},
     "output_type": "display_data"
    }
   ],
   "source": [
    "# Sort values (optional, for better visualization)\n",
    "emissions_by_country_sorted = emissions_by_country.sort_values(by=\"total_country_footprint\", ascending=False)\n",
    "\n",
    "# Create the bar chart\n",
    "plt.figure(figsize=(10, 6))\n",
    "plt.bar(emissions_by_country_sorted[\"country\"], emissions_by_country_sorted[\"total_country_footprint\"], color=\"blue\")\n",
    "\n",
    "# Add labels and title\n",
    "plt.xlabel(\"Country\")\n",
    "plt.ylabel(\"Total Country Footprint\")\n",
    "plt.title(\"Emissions by Country\")\n",
    "plt.xticks(rotation=45, ha=\"right\")  # Rotate x-axis labels for readability\n",
    "plt.tight_layout()\n",
    "\n",
    "# Show the plot\n",
    "plt.show()"
   ]
  },
  {
   "cell_type": "markdown",
   "id": "1d5484b1",
   "metadata": {},
   "source": [
    "Spain has a lot of emissions! Where do they come from?\n",
    "- Return the `company`, `industry_group` and a rounded total of `carbon_footprint_pcf` for each industry group in Spain, aliasing as `total_carbon_footprint_pcf`."
   ]
  },
  {
   "cell_type": "code",
   "execution_count": 16,
   "id": "a7d6e905",
   "metadata": {},
   "outputs": [
    {
     "data": {
      "text/html": [
       "<div>\n",
       "<style scoped>\n",
       "    .dataframe tbody tr th:only-of-type {\n",
       "        vertical-align: middle;\n",
       "    }\n",
       "\n",
       "    .dataframe tbody tr th {\n",
       "        vertical-align: top;\n",
       "    }\n",
       "\n",
       "    .dataframe thead th {\n",
       "        text-align: right;\n",
       "    }\n",
       "</style>\n",
       "<table border=\"1\" class=\"dataframe\">\n",
       "  <thead>\n",
       "    <tr style=\"text-align: right;\">\n",
       "      <th></th>\n",
       "      <th>company</th>\n",
       "      <th>industry_group</th>\n",
       "      <th>total_carbon_footprint_pcf</th>\n",
       "    </tr>\n",
       "  </thead>\n",
       "  <tbody>\n",
       "    <tr>\n",
       "      <th>4</th>\n",
       "      <td>Gamesa Corporación Tecnológica, S.A.</td>\n",
       "      <td>Electrical Equipment and Machinery</td>\n",
       "      <td>9778464.0</td>\n",
       "    </tr>\n",
       "    <tr>\n",
       "      <th>1</th>\n",
       "      <td>Compañía Española de Petróleos, S.A.U. CEPSA</td>\n",
       "      <td>Energy</td>\n",
       "      <td>6999.0</td>\n",
       "    </tr>\n",
       "    <tr>\n",
       "      <th>0</th>\n",
       "      <td>Agraz</td>\n",
       "      <td>Food, Beverage &amp; Tobacco</td>\n",
       "      <td>340.2</td>\n",
       "    </tr>\n",
       "    <tr>\n",
       "      <th>2</th>\n",
       "      <td>Crimidesa</td>\n",
       "      <td>Chemicals</td>\n",
       "      <td>180.0</td>\n",
       "    </tr>\n",
       "    <tr>\n",
       "      <th>3</th>\n",
       "      <td>Crimidesa</td>\n",
       "      <td>Materials</td>\n",
       "      <td>140.0</td>\n",
       "    </tr>\n",
       "    <tr>\n",
       "      <th>5</th>\n",
       "      <td>Miquel Y Costas</td>\n",
       "      <td>Materials</td>\n",
       "      <td>3.0</td>\n",
       "    </tr>\n",
       "  </tbody>\n",
       "</table>\n",
       "</div>"
      ],
      "text/plain": [
       "                                        company  \\\n",
       "4          Gamesa Corporación Tecnológica, S.A.   \n",
       "1  Compañía Española de Petróleos, S.A.U. CEPSA   \n",
       "0                                         Agraz   \n",
       "2                                     Crimidesa   \n",
       "3                                     Crimidesa   \n",
       "5                               Miquel Y Costas   \n",
       "\n",
       "                       industry_group  total_carbon_footprint_pcf  \n",
       "4  Electrical Equipment and Machinery                   9778464.0  \n",
       "1                              Energy                      6999.0  \n",
       "0            Food, Beverage & Tobacco                       340.2  \n",
       "2                           Chemicals                       180.0  \n",
       "3                           Materials                       140.0  \n",
       "5                           Materials                         3.0  "
      ]
     },
     "execution_count": 16,
     "metadata": {},
     "output_type": "execute_result"
    }
   ],
   "source": [
    "# Filter for Spain first\n",
    "spain_df = product_emissions_df[product_emissions_df['country'] == 'Spain']\n",
    "\n",
    "# Group by company and industry_group, sum the carbon_footprint_pcf, round it, and sort\n",
    "emissions_by_company = (\n",
    "    spain_df\n",
    "    .groupby(['company', 'industry_group'])['carbon_footprint_pcf']\n",
    "    .sum()\n",
    "    .round(1)\n",
    "    .reset_index(name='total_carbon_footprint_pcf')\n",
    "    .sort_values(by='total_carbon_footprint_pcf', ascending=False)\n",
    ")\n",
    "\n",
    "emissions_by_company"
   ]
  },
  {
   "cell_type": "markdown",
   "id": "d26a8fd9",
   "metadata": {},
   "source": [
    "Return all information for the `company` Gamesa Corporación Tecnológica, S.A. which produces the highest amount of `total_carbon_footprint_pcf`.\n",
    "Gamesa Corporación Tecnológica is actually a renewable energy company specializing in wind power. Why might it have such high emissions? Discovering these twists in the data is very important. "
   ]
  },
  {
   "cell_type": "code",
   "execution_count": 18,
   "id": "7403b2ed",
   "metadata": {},
   "outputs": [
    {
     "data": {
      "text/html": [
       "<div>\n",
       "<style scoped>\n",
       "    .dataframe tbody tr th:only-of-type {\n",
       "        vertical-align: middle;\n",
       "    }\n",
       "\n",
       "    .dataframe tbody tr th {\n",
       "        vertical-align: top;\n",
       "    }\n",
       "\n",
       "    .dataframe thead th {\n",
       "        text-align: right;\n",
       "    }\n",
       "</style>\n",
       "<table border=\"1\" class=\"dataframe\">\n",
       "  <thead>\n",
       "    <tr style=\"text-align: right;\">\n",
       "      <th></th>\n",
       "      <th>id</th>\n",
       "      <th>year</th>\n",
       "      <th>product_name</th>\n",
       "      <th>company</th>\n",
       "      <th>country</th>\n",
       "      <th>industry_group</th>\n",
       "      <th>weight_kg</th>\n",
       "      <th>carbon_footprint_pcf</th>\n",
       "      <th>upstream_percent_total_pcf</th>\n",
       "      <th>operations_percent_total_pcf</th>\n",
       "      <th>downstream_percent_total_pcf</th>\n",
       "    </tr>\n",
       "  </thead>\n",
       "  <tbody>\n",
       "    <tr>\n",
       "      <th>471</th>\n",
       "      <td>22917-2-2015</td>\n",
       "      <td>2015</td>\n",
       "      <td>Wind Turbine G90 2 Megawats</td>\n",
       "      <td>Gamesa Corporación Tecnológica, S.A.</td>\n",
       "      <td>Spain</td>\n",
       "      <td>Electrical Equipment and Machinery</td>\n",
       "      <td>361000.0</td>\n",
       "      <td>1251625.0</td>\n",
       "      <td>N/a (product with insufficient stage-level data)</td>\n",
       "      <td>N/a (product with insufficient stage-level data)</td>\n",
       "      <td>N/a (product with insufficient stage-level data)</td>\n",
       "    </tr>\n",
       "    <tr>\n",
       "      <th>472</th>\n",
       "      <td>22917-3-2015</td>\n",
       "      <td>2015</td>\n",
       "      <td>Wind Turbine G114 2 Megawats</td>\n",
       "      <td>Gamesa Corporación Tecnológica, S.A.</td>\n",
       "      <td>Spain</td>\n",
       "      <td>Electrical Equipment and Machinery</td>\n",
       "      <td>400000.0</td>\n",
       "      <td>1532608.0</td>\n",
       "      <td>N/a (product with insufficient stage-level data)</td>\n",
       "      <td>N/a (product with insufficient stage-level data)</td>\n",
       "      <td>N/a (product with insufficient stage-level data)</td>\n",
       "    </tr>\n",
       "    <tr>\n",
       "      <th>473</th>\n",
       "      <td>22917-4-2015</td>\n",
       "      <td>2015</td>\n",
       "      <td>Wind Turbine G128 5 Megawats</td>\n",
       "      <td>Gamesa Corporación Tecnológica, S.A.</td>\n",
       "      <td>Spain</td>\n",
       "      <td>Electrical Equipment and Machinery</td>\n",
       "      <td>600000.0</td>\n",
       "      <td>3718044.0</td>\n",
       "      <td>N/a (product with insufficient stage-level data)</td>\n",
       "      <td>N/a (product with insufficient stage-level data)</td>\n",
       "      <td>N/a (product with insufficient stage-level data)</td>\n",
       "    </tr>\n",
       "    <tr>\n",
       "      <th>474</th>\n",
       "      <td>22917-5-2015</td>\n",
       "      <td>2015</td>\n",
       "      <td>Wind Turbine G132 5 Megawats</td>\n",
       "      <td>Gamesa Corporación Tecnológica, S.A.</td>\n",
       "      <td>Spain</td>\n",
       "      <td>Electrical Equipment and Machinery</td>\n",
       "      <td>600000.0</td>\n",
       "      <td>3276187.0</td>\n",
       "      <td>N/a (product with insufficient stage-level data)</td>\n",
       "      <td>N/a (product with insufficient stage-level data)</td>\n",
       "      <td>N/a (product with insufficient stage-level data)</td>\n",
       "    </tr>\n",
       "  </tbody>\n",
       "</table>\n",
       "</div>"
      ],
      "text/plain": [
       "               id  year                  product_name  \\\n",
       "471  22917-2-2015  2015   Wind Turbine G90 2 Megawats   \n",
       "472  22917-3-2015  2015  Wind Turbine G114 2 Megawats   \n",
       "473  22917-4-2015  2015  Wind Turbine G128 5 Megawats   \n",
       "474  22917-5-2015  2015  Wind Turbine G132 5 Megawats   \n",
       "\n",
       "                                  company country  \\\n",
       "471  Gamesa Corporación Tecnológica, S.A.   Spain   \n",
       "472  Gamesa Corporación Tecnológica, S.A.   Spain   \n",
       "473  Gamesa Corporación Tecnológica, S.A.   Spain   \n",
       "474  Gamesa Corporación Tecnológica, S.A.   Spain   \n",
       "\n",
       "                         industry_group  weight_kg  carbon_footprint_pcf  \\\n",
       "471  Electrical Equipment and Machinery   361000.0             1251625.0   \n",
       "472  Electrical Equipment and Machinery   400000.0             1532608.0   \n",
       "473  Electrical Equipment and Machinery   600000.0             3718044.0   \n",
       "474  Electrical Equipment and Machinery   600000.0             3276187.0   \n",
       "\n",
       "                           upstream_percent_total_pcf  \\\n",
       "471  N/a (product with insufficient stage-level data)   \n",
       "472  N/a (product with insufficient stage-level data)   \n",
       "473  N/a (product with insufficient stage-level data)   \n",
       "474  N/a (product with insufficient stage-level data)   \n",
       "\n",
       "                         operations_percent_total_pcf  \\\n",
       "471  N/a (product with insufficient stage-level data)   \n",
       "472  N/a (product with insufficient stage-level data)   \n",
       "473  N/a (product with insufficient stage-level data)   \n",
       "474  N/a (product with insufficient stage-level data)   \n",
       "\n",
       "                         downstream_percent_total_pcf  \n",
       "471  N/a (product with insufficient stage-level data)  \n",
       "472  N/a (product with insufficient stage-level data)  \n",
       "473  N/a (product with insufficient stage-level data)  \n",
       "474  N/a (product with insufficient stage-level data)  "
      ]
     },
     "execution_count": 18,
     "metadata": {},
     "output_type": "execute_result"
    }
   ],
   "source": [
    "# Filter rows where 'company' starts with 'Gamesa Corp'\n",
    "gamesa_df = product_emissions_df[product_emissions_df['company'].str.startswith('Gamesa Corp')]\n",
    "gamesa_df"
   ]
  },
  {
   "cell_type": "markdown",
   "id": "2dd2fd13",
   "metadata": {},
   "source": [
    "- Limit to data for 2015 and order by `total_industry_footprint`."
   ]
  },
  {
   "cell_type": "code",
   "execution_count": 19,
   "id": "de3f070c",
   "metadata": {},
   "outputs": [
    {
     "data": {
      "text/html": [
       "<div>\n",
       "<style scoped>\n",
       "    .dataframe tbody tr th:only-of-type {\n",
       "        vertical-align: middle;\n",
       "    }\n",
       "\n",
       "    .dataframe tbody tr th {\n",
       "        vertical-align: top;\n",
       "    }\n",
       "\n",
       "    .dataframe thead th {\n",
       "        text-align: right;\n",
       "    }\n",
       "</style>\n",
       "<table border=\"1\" class=\"dataframe\">\n",
       "  <thead>\n",
       "    <tr style=\"text-align: right;\">\n",
       "      <th></th>\n",
       "      <th>country</th>\n",
       "      <th>industry_group</th>\n",
       "      <th>total_industry_footprint</th>\n",
       "    </tr>\n",
       "  </thead>\n",
       "  <tbody>\n",
       "    <tr>\n",
       "      <th>30</th>\n",
       "      <td>Spain</td>\n",
       "      <td>Electrical Equipment and Machinery</td>\n",
       "      <td>9778464.0</td>\n",
       "    </tr>\n",
       "    <tr>\n",
       "      <th>11</th>\n",
       "      <td>Germany</td>\n",
       "      <td>Automobiles &amp; Components</td>\n",
       "      <td>778127.0</td>\n",
       "    </tr>\n",
       "    <tr>\n",
       "      <th>37</th>\n",
       "      <td>Taiwan</td>\n",
       "      <td>Technology Hardware &amp; Equipment</td>\n",
       "      <td>58605.2</td>\n",
       "    </tr>\n",
       "    <tr>\n",
       "      <th>38</th>\n",
       "      <td>USA</td>\n",
       "      <td>Automobiles &amp; Components</td>\n",
       "      <td>39100.0</td>\n",
       "    </tr>\n",
       "    <tr>\n",
       "      <th>22</th>\n",
       "      <td>Japan</td>\n",
       "      <td>Technology Hardware &amp; Equipment</td>\n",
       "      <td>24305.8</td>\n",
       "    </tr>\n",
       "    <tr>\n",
       "      <th>24</th>\n",
       "      <td>Netherlands</td>\n",
       "      <td>Chemicals</td>\n",
       "      <td>23250.0</td>\n",
       "    </tr>\n",
       "    <tr>\n",
       "      <th>46</th>\n",
       "      <td>USA</td>\n",
       "      <td>Software &amp; Services</td>\n",
       "      <td>22851.2</td>\n",
       "    </tr>\n",
       "    <tr>\n",
       "      <th>3</th>\n",
       "      <td>Brazil</td>\n",
       "      <td>Electrical Equipment and Machinery</td>\n",
       "      <td>20007.6</td>\n",
       "    </tr>\n",
       "    <tr>\n",
       "      <th>26</th>\n",
       "      <td>South Korea</td>\n",
       "      <td>Chemicals</td>\n",
       "      <td>17430.0</td>\n",
       "    </tr>\n",
       "    <tr>\n",
       "      <th>47</th>\n",
       "      <td>USA</td>\n",
       "      <td>Technology Hardware &amp; Equipment</td>\n",
       "      <td>10699.0</td>\n",
       "    </tr>\n",
       "    <tr>\n",
       "      <th>15</th>\n",
       "      <td>India</td>\n",
       "      <td>Mining - Iron, Aluminum, Other Metals</td>\n",
       "      <td>8181.0</td>\n",
       "    </tr>\n",
       "    <tr>\n",
       "      <th>6</th>\n",
       "      <td>Finland</td>\n",
       "      <td>Forest and Paper Products - Forestry, Timber, ...</td>\n",
       "      <td>8037.0</td>\n",
       "    </tr>\n",
       "    <tr>\n",
       "      <th>14</th>\n",
       "      <td>India</td>\n",
       "      <td>Chemicals</td>\n",
       "      <td>4058.0</td>\n",
       "    </tr>\n",
       "    <tr>\n",
       "      <th>18</th>\n",
       "      <td>Japan</td>\n",
       "      <td>Capital Goods</td>\n",
       "      <td>3505.0</td>\n",
       "    </tr>\n",
       "    <tr>\n",
       "      <th>19</th>\n",
       "      <td>Japan</td>\n",
       "      <td>Electrical Equipment and Machinery</td>\n",
       "      <td>2268.1</td>\n",
       "    </tr>\n",
       "    <tr>\n",
       "      <th>23</th>\n",
       "      <td>Japan</td>\n",
       "      <td>Tires</td>\n",
       "      <td>2021.7</td>\n",
       "    </tr>\n",
       "    <tr>\n",
       "      <th>44</th>\n",
       "      <td>USA</td>\n",
       "      <td>Media</td>\n",
       "      <td>1808.0</td>\n",
       "    </tr>\n",
       "    <tr>\n",
       "      <th>16</th>\n",
       "      <td>Ireland</td>\n",
       "      <td>Containers &amp; Packaging</td>\n",
       "      <td>1710.0</td>\n",
       "    </tr>\n",
       "    <tr>\n",
       "      <th>25</th>\n",
       "      <td>South Africa</td>\n",
       "      <td>Containers &amp; Packaging</td>\n",
       "      <td>871.0</td>\n",
       "    </tr>\n",
       "    <tr>\n",
       "      <th>41</th>\n",
       "      <td>USA</td>\n",
       "      <td>Electrical Equipment and Machinery</td>\n",
       "      <td>798.8</td>\n",
       "    </tr>\n",
       "    <tr>\n",
       "      <th>40</th>\n",
       "      <td>USA</td>\n",
       "      <td>Consumer Durables, Household and Personal Prod...</td>\n",
       "      <td>522.0</td>\n",
       "    </tr>\n",
       "    <tr>\n",
       "      <th>49</th>\n",
       "      <td>United Kingdom</td>\n",
       "      <td>Food &amp; Staples Retailing</td>\n",
       "      <td>520.0</td>\n",
       "    </tr>\n",
       "    <tr>\n",
       "      <th>5</th>\n",
       "      <td>Chile</td>\n",
       "      <td>Forest and Paper Products - Forestry, Timber, ...</td>\n",
       "      <td>451.5</td>\n",
       "    </tr>\n",
       "    <tr>\n",
       "      <th>33</th>\n",
       "      <td>Sweden</td>\n",
       "      <td>Forest and Paper Products - Forestry, Timber, ...</td>\n",
       "      <td>421.0</td>\n",
       "    </tr>\n",
       "    <tr>\n",
       "      <th>31</th>\n",
       "      <td>Sweden</td>\n",
       "      <td>Consumer Durables, Household and Personal Prod...</td>\n",
       "      <td>409.0</td>\n",
       "    </tr>\n",
       "    <tr>\n",
       "      <th>32</th>\n",
       "      <td>Sweden</td>\n",
       "      <td>Containers &amp; Packaging</td>\n",
       "      <td>407.1</td>\n",
       "    </tr>\n",
       "    <tr>\n",
       "      <th>0</th>\n",
       "      <td>Australia</td>\n",
       "      <td>Trading Companies &amp; Distributors and Commercia...</td>\n",
       "      <td>238.5</td>\n",
       "    </tr>\n",
       "    <tr>\n",
       "      <th>48</th>\n",
       "      <td>USA</td>\n",
       "      <td>Textiles, Apparel, Footwear and Luxury Goods</td>\n",
       "      <td>227.2</td>\n",
       "    </tr>\n",
       "    <tr>\n",
       "      <th>50</th>\n",
       "      <td>United Kingdom</td>\n",
       "      <td>Telecommunication Services</td>\n",
       "      <td>182.7</td>\n",
       "    </tr>\n",
       "    <tr>\n",
       "      <th>29</th>\n",
       "      <td>Spain</td>\n",
       "      <td>Chemicals</td>\n",
       "      <td>180.0</td>\n",
       "    </tr>\n",
       "    <tr>\n",
       "      <th>43</th>\n",
       "      <td>USA</td>\n",
       "      <td>Food &amp; Staples Retailing</td>\n",
       "      <td>179.0</td>\n",
       "    </tr>\n",
       "    <tr>\n",
       "      <th>20</th>\n",
       "      <td>Japan</td>\n",
       "      <td>Food &amp; Beverage Processing</td>\n",
       "      <td>130.0</td>\n",
       "    </tr>\n",
       "    <tr>\n",
       "      <th>9</th>\n",
       "      <td>France</td>\n",
       "      <td>Media</td>\n",
       "      <td>111.0</td>\n",
       "    </tr>\n",
       "    <tr>\n",
       "      <th>28</th>\n",
       "      <td>South Korea</td>\n",
       "      <td>Technology Hardware &amp; Equipment</td>\n",
       "      <td>79.2</td>\n",
       "    </tr>\n",
       "    <tr>\n",
       "      <th>4</th>\n",
       "      <td>Canada</td>\n",
       "      <td>Technology Hardware &amp; Equipment</td>\n",
       "      <td>65.1</td>\n",
       "    </tr>\n",
       "    <tr>\n",
       "      <th>21</th>\n",
       "      <td>Japan</td>\n",
       "      <td>Gas Utilities</td>\n",
       "      <td>60.6</td>\n",
       "    </tr>\n",
       "    <tr>\n",
       "      <th>10</th>\n",
       "      <td>France</td>\n",
       "      <td>Technology Hardware &amp; Equipment</td>\n",
       "      <td>50.0</td>\n",
       "    </tr>\n",
       "    <tr>\n",
       "      <th>7</th>\n",
       "      <td>France</td>\n",
       "      <td>Electrical Equipment and Machinery</td>\n",
       "      <td>19.1</td>\n",
       "    </tr>\n",
       "    <tr>\n",
       "      <th>34</th>\n",
       "      <td>Switzerland</td>\n",
       "      <td>Chemicals</td>\n",
       "      <td>12.4</td>\n",
       "    </tr>\n",
       "    <tr>\n",
       "      <th>45</th>\n",
       "      <td>USA</td>\n",
       "      <td>Retailing</td>\n",
       "      <td>10.9</td>\n",
       "    </tr>\n",
       "    <tr>\n",
       "      <th>17</th>\n",
       "      <td>Italy</td>\n",
       "      <td>Food &amp; Staples Retailing</td>\n",
       "      <td>7.5</td>\n",
       "    </tr>\n",
       "    <tr>\n",
       "      <th>8</th>\n",
       "      <td>France</td>\n",
       "      <td>Food &amp; Beverage Processing</td>\n",
       "      <td>5.9</td>\n",
       "    </tr>\n",
       "    <tr>\n",
       "      <th>2</th>\n",
       "      <td>Brazil</td>\n",
       "      <td>Chemicals</td>\n",
       "      <td>4.4</td>\n",
       "    </tr>\n",
       "    <tr>\n",
       "      <th>36</th>\n",
       "      <td>Switzerland</td>\n",
       "      <td>Technology Hardware &amp; Equipment</td>\n",
       "      <td>4.3</td>\n",
       "    </tr>\n",
       "    <tr>\n",
       "      <th>1</th>\n",
       "      <td>Belgium</td>\n",
       "      <td>Chemicals</td>\n",
       "      <td>3.5</td>\n",
       "    </tr>\n",
       "    <tr>\n",
       "      <th>42</th>\n",
       "      <td>USA</td>\n",
       "      <td>Food &amp; Beverage Processing</td>\n",
       "      <td>2.9</td>\n",
       "    </tr>\n",
       "    <tr>\n",
       "      <th>27</th>\n",
       "      <td>South Korea</td>\n",
       "      <td>Semiconductors &amp; Semiconductors Equipment</td>\n",
       "      <td>2.1</td>\n",
       "    </tr>\n",
       "    <tr>\n",
       "      <th>39</th>\n",
       "      <td>USA</td>\n",
       "      <td>Chemicals</td>\n",
       "      <td>1.4</td>\n",
       "    </tr>\n",
       "    <tr>\n",
       "      <th>13</th>\n",
       "      <td>Greece</td>\n",
       "      <td>Tobacco</td>\n",
       "      <td>0.7</td>\n",
       "    </tr>\n",
       "    <tr>\n",
       "      <th>35</th>\n",
       "      <td>Switzerland</td>\n",
       "      <td>Food &amp; Beverage Processing</td>\n",
       "      <td>0.3</td>\n",
       "    </tr>\n",
       "    <tr>\n",
       "      <th>12</th>\n",
       "      <td>Germany</td>\n",
       "      <td>Food, Beverage &amp; Tobacco</td>\n",
       "      <td>0.0</td>\n",
       "    </tr>\n",
       "  </tbody>\n",
       "</table>\n",
       "</div>"
      ],
      "text/plain": [
       "           country                                     industry_group  \\\n",
       "30           Spain                 Electrical Equipment and Machinery   \n",
       "11         Germany                           Automobiles & Components   \n",
       "37          Taiwan                    Technology Hardware & Equipment   \n",
       "38             USA                           Automobiles & Components   \n",
       "22           Japan                    Technology Hardware & Equipment   \n",
       "24     Netherlands                                          Chemicals   \n",
       "46             USA                                Software & Services   \n",
       "3           Brazil                 Electrical Equipment and Machinery   \n",
       "26     South Korea                                          Chemicals   \n",
       "47             USA                    Technology Hardware & Equipment   \n",
       "15           India              Mining - Iron, Aluminum, Other Metals   \n",
       "6          Finland  Forest and Paper Products - Forestry, Timber, ...   \n",
       "14           India                                          Chemicals   \n",
       "18           Japan                                      Capital Goods   \n",
       "19           Japan                 Electrical Equipment and Machinery   \n",
       "23           Japan                                              Tires   \n",
       "44             USA                                              Media   \n",
       "16         Ireland                             Containers & Packaging   \n",
       "25    South Africa                             Containers & Packaging   \n",
       "41             USA                 Electrical Equipment and Machinery   \n",
       "40             USA  Consumer Durables, Household and Personal Prod...   \n",
       "49  United Kingdom                           Food & Staples Retailing   \n",
       "5            Chile  Forest and Paper Products - Forestry, Timber, ...   \n",
       "33          Sweden  Forest and Paper Products - Forestry, Timber, ...   \n",
       "31          Sweden  Consumer Durables, Household and Personal Prod...   \n",
       "32          Sweden                             Containers & Packaging   \n",
       "0        Australia  Trading Companies & Distributors and Commercia...   \n",
       "48             USA       Textiles, Apparel, Footwear and Luxury Goods   \n",
       "50  United Kingdom                         Telecommunication Services   \n",
       "29           Spain                                          Chemicals   \n",
       "43             USA                           Food & Staples Retailing   \n",
       "20           Japan                         Food & Beverage Processing   \n",
       "9           France                                              Media   \n",
       "28     South Korea                    Technology Hardware & Equipment   \n",
       "4           Canada                    Technology Hardware & Equipment   \n",
       "21           Japan                                      Gas Utilities   \n",
       "10          France                    Technology Hardware & Equipment   \n",
       "7           France                 Electrical Equipment and Machinery   \n",
       "34     Switzerland                                          Chemicals   \n",
       "45             USA                                          Retailing   \n",
       "17           Italy                           Food & Staples Retailing   \n",
       "8           France                         Food & Beverage Processing   \n",
       "2           Brazil                                          Chemicals   \n",
       "36     Switzerland                    Technology Hardware & Equipment   \n",
       "1          Belgium                                          Chemicals   \n",
       "42             USA                         Food & Beverage Processing   \n",
       "27     South Korea          Semiconductors & Semiconductors Equipment   \n",
       "39             USA                                          Chemicals   \n",
       "13          Greece                                            Tobacco   \n",
       "35     Switzerland                         Food & Beverage Processing   \n",
       "12         Germany                           Food, Beverage & Tobacco   \n",
       "\n",
       "    total_industry_footprint  \n",
       "30                 9778464.0  \n",
       "11                  778127.0  \n",
       "37                   58605.2  \n",
       "38                   39100.0  \n",
       "22                   24305.8  \n",
       "24                   23250.0  \n",
       "46                   22851.2  \n",
       "3                    20007.6  \n",
       "26                   17430.0  \n",
       "47                   10699.0  \n",
       "15                    8181.0  \n",
       "6                     8037.0  \n",
       "14                    4058.0  \n",
       "18                    3505.0  \n",
       "19                    2268.1  \n",
       "23                    2021.7  \n",
       "44                    1808.0  \n",
       "16                    1710.0  \n",
       "25                     871.0  \n",
       "41                     798.8  \n",
       "40                     522.0  \n",
       "49                     520.0  \n",
       "5                      451.5  \n",
       "33                     421.0  \n",
       "31                     409.0  \n",
       "32                     407.1  \n",
       "0                      238.5  \n",
       "48                     227.2  \n",
       "50                     182.7  \n",
       "29                     180.0  \n",
       "43                     179.0  \n",
       "20                     130.0  \n",
       "9                      111.0  \n",
       "28                      79.2  \n",
       "4                       65.1  \n",
       "21                      60.6  \n",
       "10                      50.0  \n",
       "7                       19.1  \n",
       "34                      12.4  \n",
       "45                      10.9  \n",
       "17                       7.5  \n",
       "8                        5.9  \n",
       "2                        4.4  \n",
       "36                       4.3  \n",
       "1                        3.5  \n",
       "42                       2.9  \n",
       "27                       2.1  \n",
       "39                       1.4  \n",
       "13                       0.7  \n",
       "35                       0.3  \n",
       "12                       0.0  "
      ]
     },
     "execution_count": 19,
     "metadata": {},
     "output_type": "execute_result"
    }
   ],
   "source": [
    "# Filter the DataFrame for the year 2015\n",
    "df_2015 = product_emissions_df[product_emissions_df['year'] ==2015]\n",
    "\n",
    "# Group by country and industry_group, sum carbon_footprint_pcf, round to 1 decimal\n",
    "industry_footprint_2015 = (\n",
    "    df_2015\n",
    "    .groupby(['country', 'industry_group'])['carbon_footprint_pcf']\n",
    "    .sum()\n",
    "    .round(1)\n",
    "    .reset_index(name='total_industry_footprint')\n",
    "    .sort_values(by='total_industry_footprint', ascending=False)\n",
    ")\n",
    "\n",
    "industry_footprint_2015"
   ]
  },
  {
   "cell_type": "markdown",
   "id": "b2837033",
   "metadata": {},
   "source": [
    "## 4: Industry representation\n",
    "It looks like the Electrical Equipment and Machinery had a huge carbon footprint in 2015. But what if that's just because there are many companies from the Electrical Equipment and Machinery industry in the dataset? Let's check which industries are most heavily represented in that year.\n",
    "- Return each `industry_group` included in the table and a count of the number of records that list that industry group.\n",
    "- Limit the results to only those from 2017 and alias the count as `count_company`.\n",
    "- Order by `count_industry`, descending."
   ]
  },
  {
   "cell_type": "code",
   "execution_count": 23,
   "id": "254d7a48",
   "metadata": {},
   "outputs": [
    {
     "data": {
      "text/html": [
       "<div>\n",
       "<style scoped>\n",
       "    .dataframe tbody tr th:only-of-type {\n",
       "        vertical-align: middle;\n",
       "    }\n",
       "\n",
       "    .dataframe tbody tr th {\n",
       "        vertical-align: top;\n",
       "    }\n",
       "\n",
       "    .dataframe thead th {\n",
       "        text-align: right;\n",
       "    }\n",
       "</style>\n",
       "<table border=\"1\" class=\"dataframe\">\n",
       "  <thead>\n",
       "    <tr style=\"text-align: right;\">\n",
       "      <th></th>\n",
       "      <th>industry_group</th>\n",
       "      <th>count_company</th>\n",
       "    </tr>\n",
       "  </thead>\n",
       "  <tbody>\n",
       "    <tr>\n",
       "      <th>0</th>\n",
       "      <td>Chemicals</td>\n",
       "      <td>1</td>\n",
       "    </tr>\n",
       "    <tr>\n",
       "      <th>1</th>\n",
       "      <td>Electrical Equipment and Machinery</td>\n",
       "      <td>1</td>\n",
       "    </tr>\n",
       "  </tbody>\n",
       "</table>\n",
       "</div>"
      ],
      "text/plain": [
       "                       industry_group  count_company\n",
       "0                           Chemicals              1\n",
       "1  Electrical Equipment and Machinery              1"
      ]
     },
     "execution_count": 23,
     "metadata": {},
     "output_type": "execute_result"
    }
   ],
   "source": [
    "# Filter for records from the year 2015 and country Spain\n",
    "df_2015 = product_emissions_df[\n",
    "    (product_emissions_df['year'] == 2015) & \n",
    "    (product_emissions_df['country'] == 'Spain')\n",
    "]\n",
    "\n",
    "# Group by industry_group and count unique companies\n",
    "industry_count_2015 = (\n",
    "    df_2015\n",
    "    .groupby('industry_group')['company']\n",
    "    .nunique()\n",
    "    .reset_index(name='count_company')\n",
    "    .sort_values(by='count_company', ascending=False)\n",
    ")\n",
    "\n",
    "industry_count_2015\n"
   ]
  },
  {
   "cell_type": "markdown",
   "id": "15219c49",
   "metadata": {},
   "source": [
    "Since Gamesa Corporación Tecnológica belongs to the `Electrical Equipment and Machinery` industry group, it is worthwhile to examine and compare the carbon footprints of other companies within the same group."
   ]
  },
  {
   "cell_type": "code",
   "execution_count": 25,
   "id": "d913a450",
   "metadata": {},
   "outputs": [
    {
     "data": {
      "text/html": [
       "<div>\n",
       "<style scoped>\n",
       "    .dataframe tbody tr th:only-of-type {\n",
       "        vertical-align: middle;\n",
       "    }\n",
       "\n",
       "    .dataframe tbody tr th {\n",
       "        vertical-align: top;\n",
       "    }\n",
       "\n",
       "    .dataframe thead th {\n",
       "        text-align: right;\n",
       "    }\n",
       "</style>\n",
       "<table border=\"1\" class=\"dataframe\">\n",
       "  <thead>\n",
       "    <tr style=\"text-align: right;\">\n",
       "      <th></th>\n",
       "      <th>country</th>\n",
       "      <th>industry_group</th>\n",
       "      <th>company</th>\n",
       "      <th>product_name</th>\n",
       "      <th>weight_kg</th>\n",
       "      <th>carbon_footprint_pcf</th>\n",
       "    </tr>\n",
       "  </thead>\n",
       "  <tbody>\n",
       "    <tr>\n",
       "      <th>473</th>\n",
       "      <td>Spain</td>\n",
       "      <td>Electrical Equipment and Machinery</td>\n",
       "      <td>Gamesa Corporación Tecnológica, S.A.</td>\n",
       "      <td>Wind Turbine G128 5 Megawats</td>\n",
       "      <td>600000.000</td>\n",
       "      <td>3718044.000</td>\n",
       "    </tr>\n",
       "    <tr>\n",
       "      <th>474</th>\n",
       "      <td>Spain</td>\n",
       "      <td>Electrical Equipment and Machinery</td>\n",
       "      <td>Gamesa Corporación Tecnológica, S.A.</td>\n",
       "      <td>Wind Turbine G132 5 Megawats</td>\n",
       "      <td>600000.000</td>\n",
       "      <td>3276187.000</td>\n",
       "    </tr>\n",
       "    <tr>\n",
       "      <th>472</th>\n",
       "      <td>Spain</td>\n",
       "      <td>Electrical Equipment and Machinery</td>\n",
       "      <td>Gamesa Corporación Tecnológica, S.A.</td>\n",
       "      <td>Wind Turbine G114 2 Megawats</td>\n",
       "      <td>400000.000</td>\n",
       "      <td>1532608.000</td>\n",
       "    </tr>\n",
       "    <tr>\n",
       "      <th>471</th>\n",
       "      <td>Spain</td>\n",
       "      <td>Electrical Equipment and Machinery</td>\n",
       "      <td>Gamesa Corporación Tecnológica, S.A.</td>\n",
       "      <td>Wind Turbine G90 2 Megawats</td>\n",
       "      <td>361000.000</td>\n",
       "      <td>1251625.000</td>\n",
       "    </tr>\n",
       "    <tr>\n",
       "      <th>350</th>\n",
       "      <td>Brazil</td>\n",
       "      <td>Electrical Equipment and Machinery</td>\n",
       "      <td>Weg S/A</td>\n",
       "      <td>Electric Motor</td>\n",
       "      <td>90.000</td>\n",
       "      <td>20007.620</td>\n",
       "    </tr>\n",
       "    <tr>\n",
       "      <th>542</th>\n",
       "      <td>Japan</td>\n",
       "      <td>Electrical Equipment and Machinery</td>\n",
       "      <td>Sanden</td>\n",
       "      <td>Vending Machine</td>\n",
       "      <td>342.462</td>\n",
       "      <td>2268.100</td>\n",
       "    </tr>\n",
       "    <tr>\n",
       "      <th>610</th>\n",
       "      <td>USA</td>\n",
       "      <td>Electrical Equipment and Machinery</td>\n",
       "      <td>Tennant Company</td>\n",
       "      <td>T300</td>\n",
       "      <td>181.000</td>\n",
       "      <td>655.000</td>\n",
       "    </tr>\n",
       "    <tr>\n",
       "      <th>225</th>\n",
       "      <td>USA</td>\n",
       "      <td>Electrical Equipment and Machinery</td>\n",
       "      <td>Stanley Black &amp; Decker, Inc.</td>\n",
       "      <td>DC988 Type 11 Cordless Power Drill equipment w...</td>\n",
       "      <td>2.700</td>\n",
       "      <td>88.130</td>\n",
       "    </tr>\n",
       "    <tr>\n",
       "      <th>223</th>\n",
       "      <td>USA</td>\n",
       "      <td>Electrical Equipment and Machinery</td>\n",
       "      <td>Stanley Black &amp; Decker, Inc.</td>\n",
       "      <td>D21710 Type 5 Corded Power Drill</td>\n",
       "      <td>1.820</td>\n",
       "      <td>55.670</td>\n",
       "    </tr>\n",
       "    <tr>\n",
       "      <th>204</th>\n",
       "      <td>France</td>\n",
       "      <td>Electrical Equipment and Machinery</td>\n",
       "      <td>Schneider Electric</td>\n",
       "      <td>ACTI9 IID K 2P 40A 30MA AC-TYPE RESIDUAL CURRE...</td>\n",
       "      <td>0.210</td>\n",
       "      <td>19.100</td>\n",
       "    </tr>\n",
       "    <tr>\n",
       "      <th>671</th>\n",
       "      <td>USA</td>\n",
       "      <td>Electrical Equipment and Machinery</td>\n",
       "      <td>Times Microwave Systems</td>\n",
       "      <td>Cable</td>\n",
       "      <td>0.030</td>\n",
       "      <td>0.023</td>\n",
       "    </tr>\n",
       "  </tbody>\n",
       "</table>\n",
       "</div>"
      ],
      "text/plain": [
       "    country                      industry_group  \\\n",
       "473   Spain  Electrical Equipment and Machinery   \n",
       "474   Spain  Electrical Equipment and Machinery   \n",
       "472   Spain  Electrical Equipment and Machinery   \n",
       "471   Spain  Electrical Equipment and Machinery   \n",
       "350  Brazil  Electrical Equipment and Machinery   \n",
       "542   Japan  Electrical Equipment and Machinery   \n",
       "610     USA  Electrical Equipment and Machinery   \n",
       "225     USA  Electrical Equipment and Machinery   \n",
       "223     USA  Electrical Equipment and Machinery   \n",
       "204  France  Electrical Equipment and Machinery   \n",
       "671     USA  Electrical Equipment and Machinery   \n",
       "\n",
       "                                  company  \\\n",
       "473  Gamesa Corporación Tecnológica, S.A.   \n",
       "474  Gamesa Corporación Tecnológica, S.A.   \n",
       "472  Gamesa Corporación Tecnológica, S.A.   \n",
       "471  Gamesa Corporación Tecnológica, S.A.   \n",
       "350                               Weg S/A   \n",
       "542                                Sanden   \n",
       "610                       Tennant Company   \n",
       "225          Stanley Black & Decker, Inc.   \n",
       "223          Stanley Black & Decker, Inc.   \n",
       "204                    Schneider Electric   \n",
       "671               Times Microwave Systems   \n",
       "\n",
       "                                          product_name   weight_kg  \\\n",
       "473                       Wind Turbine G128 5 Megawats  600000.000   \n",
       "474                       Wind Turbine G132 5 Megawats  600000.000   \n",
       "472                       Wind Turbine G114 2 Megawats  400000.000   \n",
       "471                        Wind Turbine G90 2 Megawats  361000.000   \n",
       "350                                     Electric Motor      90.000   \n",
       "542                                    Vending Machine     342.462   \n",
       "610                                               T300     181.000   \n",
       "225  DC988 Type 11 Cordless Power Drill equipment w...       2.700   \n",
       "223                   D21710 Type 5 Corded Power Drill       1.820   \n",
       "204  ACTI9 IID K 2P 40A 30MA AC-TYPE RESIDUAL CURRE...       0.210   \n",
       "671                                              Cable       0.030   \n",
       "\n",
       "     carbon_footprint_pcf  \n",
       "473           3718044.000  \n",
       "474           3276187.000  \n",
       "472           1532608.000  \n",
       "471           1251625.000  \n",
       "350             20007.620  \n",
       "542              2268.100  \n",
       "610               655.000  \n",
       "225                88.130  \n",
       "223                55.670  \n",
       "204                19.100  \n",
       "671                 0.023  "
      ]
     },
     "execution_count": 25,
     "metadata": {},
     "output_type": "execute_result"
    }
   ],
   "source": [
    "# Filter for year 2015 and industry group 'Electrical Equipment and Machinery'\n",
    "electrical_2015 = product_emissions_df[\n",
    "    (product_emissions_df['year'] == 2015) &\n",
    "    (product_emissions_df['industry_group'] == 'Electrical Equipment and Machinery')\n",
    "]\n",
    "\n",
    "# Sort the filtered DataFrame\n",
    "electrical_2015 = electrical_2015.sort_values(by='carbon_footprint_pcf', ascending=False)\n",
    "\n",
    "# Select the relevant columns\n",
    "electrical_2015 = electrical_2015[\n",
    "    ['country', 'industry_group', 'company', 'product_name', 'weight_kg', 'carbon_footprint_pcf']\n",
    "]\n",
    "\n",
    "electrical_2015"
   ]
  },
  {
   "cell_type": "code",
   "execution_count": 26,
   "id": "e54dc701",
   "metadata": {},
   "outputs": [
    {
     "data": {
      "text/html": [
       "<div>\n",
       "<style scoped>\n",
       "    .dataframe tbody tr th:only-of-type {\n",
       "        vertical-align: middle;\n",
       "    }\n",
       "\n",
       "    .dataframe tbody tr th {\n",
       "        vertical-align: top;\n",
       "    }\n",
       "\n",
       "    .dataframe thead th {\n",
       "        text-align: right;\n",
       "    }\n",
       "</style>\n",
       "<table border=\"1\" class=\"dataframe\">\n",
       "  <thead>\n",
       "    <tr style=\"text-align: right;\">\n",
       "      <th></th>\n",
       "      <th>product_name</th>\n",
       "      <th>company</th>\n",
       "      <th>upstream_percent_total_pcf</th>\n",
       "      <th>operations_percent_total_pcf</th>\n",
       "      <th>downstream_percent_total_pcf</th>\n",
       "      <th>weight_kg</th>\n",
       "      <th>carbon_footprint_pcf</th>\n",
       "    </tr>\n",
       "  </thead>\n",
       "  <tbody>\n",
       "    <tr>\n",
       "      <th>204</th>\n",
       "      <td>ACTI9 IID K 2P 40A 30MA AC-TYPE RESIDUAL CURRE...</td>\n",
       "      <td>Schneider Electric</td>\n",
       "      <td>6.68%</td>\n",
       "      <td>1.44%</td>\n",
       "      <td>91.88%</td>\n",
       "      <td>0.210</td>\n",
       "      <td>19.100</td>\n",
       "    </tr>\n",
       "    <tr>\n",
       "      <th>223</th>\n",
       "      <td>D21710 Type 5 Corded Power Drill</td>\n",
       "      <td>Stanley Black &amp; Decker, Inc.</td>\n",
       "      <td>N/a (product with insufficient stage-level data)</td>\n",
       "      <td>N/a (product with insufficient stage-level data)</td>\n",
       "      <td>N/a (product with insufficient stage-level data)</td>\n",
       "      <td>1.820</td>\n",
       "      <td>55.670</td>\n",
       "    </tr>\n",
       "    <tr>\n",
       "      <th>225</th>\n",
       "      <td>DC988 Type 11 Cordless Power Drill equipment w...</td>\n",
       "      <td>Stanley Black &amp; Decker, Inc.</td>\n",
       "      <td>N/a (product with insufficient stage-level data)</td>\n",
       "      <td>N/a (product with insufficient stage-level data)</td>\n",
       "      <td>N/a (product with insufficient stage-level data)</td>\n",
       "      <td>2.700</td>\n",
       "      <td>88.130</td>\n",
       "    </tr>\n",
       "    <tr>\n",
       "      <th>350</th>\n",
       "      <td>Electric Motor</td>\n",
       "      <td>Weg S/A</td>\n",
       "      <td>0.10%</td>\n",
       "      <td>0.02%</td>\n",
       "      <td>99.88%</td>\n",
       "      <td>90.000</td>\n",
       "      <td>20007.620</td>\n",
       "    </tr>\n",
       "    <tr>\n",
       "      <th>471</th>\n",
       "      <td>Wind Turbine G90 2 Megawats</td>\n",
       "      <td>Gamesa Corporación Tecnológica, S.A.</td>\n",
       "      <td>N/a (product with insufficient stage-level data)</td>\n",
       "      <td>N/a (product with insufficient stage-level data)</td>\n",
       "      <td>N/a (product with insufficient stage-level data)</td>\n",
       "      <td>361000.000</td>\n",
       "      <td>1251625.000</td>\n",
       "    </tr>\n",
       "    <tr>\n",
       "      <th>472</th>\n",
       "      <td>Wind Turbine G114 2 Megawats</td>\n",
       "      <td>Gamesa Corporación Tecnológica, S.A.</td>\n",
       "      <td>N/a (product with insufficient stage-level data)</td>\n",
       "      <td>N/a (product with insufficient stage-level data)</td>\n",
       "      <td>N/a (product with insufficient stage-level data)</td>\n",
       "      <td>400000.000</td>\n",
       "      <td>1532608.000</td>\n",
       "    </tr>\n",
       "    <tr>\n",
       "      <th>473</th>\n",
       "      <td>Wind Turbine G128 5 Megawats</td>\n",
       "      <td>Gamesa Corporación Tecnológica, S.A.</td>\n",
       "      <td>N/a (product with insufficient stage-level data)</td>\n",
       "      <td>N/a (product with insufficient stage-level data)</td>\n",
       "      <td>N/a (product with insufficient stage-level data)</td>\n",
       "      <td>600000.000</td>\n",
       "      <td>3718044.000</td>\n",
       "    </tr>\n",
       "    <tr>\n",
       "      <th>474</th>\n",
       "      <td>Wind Turbine G132 5 Megawats</td>\n",
       "      <td>Gamesa Corporación Tecnológica, S.A.</td>\n",
       "      <td>N/a (product with insufficient stage-level data)</td>\n",
       "      <td>N/a (product with insufficient stage-level data)</td>\n",
       "      <td>N/a (product with insufficient stage-level data)</td>\n",
       "      <td>600000.000</td>\n",
       "      <td>3276187.000</td>\n",
       "    </tr>\n",
       "    <tr>\n",
       "      <th>542</th>\n",
       "      <td>Vending Machine</td>\n",
       "      <td>Sanden</td>\n",
       "      <td>42.63%</td>\n",
       "      <td>6.67%</td>\n",
       "      <td>50.70%</td>\n",
       "      <td>342.462</td>\n",
       "      <td>2268.100</td>\n",
       "    </tr>\n",
       "    <tr>\n",
       "      <th>610</th>\n",
       "      <td>T300</td>\n",
       "      <td>Tennant Company</td>\n",
       "      <td>N/a (product with insufficient stage-level data)</td>\n",
       "      <td>N/a (product with insufficient stage-level data)</td>\n",
       "      <td>N/a (product with insufficient stage-level data)</td>\n",
       "      <td>181.000</td>\n",
       "      <td>655.000</td>\n",
       "    </tr>\n",
       "    <tr>\n",
       "      <th>671</th>\n",
       "      <td>Cable</td>\n",
       "      <td>Times Microwave Systems</td>\n",
       "      <td>N/a (product with insufficient stage-level data)</td>\n",
       "      <td>N/a (product with insufficient stage-level data)</td>\n",
       "      <td>N/a (product with insufficient stage-level data)</td>\n",
       "      <td>0.030</td>\n",
       "      <td>0.023</td>\n",
       "    </tr>\n",
       "  </tbody>\n",
       "</table>\n",
       "</div>"
      ],
      "text/plain": [
       "                                          product_name  \\\n",
       "204  ACTI9 IID K 2P 40A 30MA AC-TYPE RESIDUAL CURRE...   \n",
       "223                   D21710 Type 5 Corded Power Drill   \n",
       "225  DC988 Type 11 Cordless Power Drill equipment w...   \n",
       "350                                     Electric Motor   \n",
       "471                        Wind Turbine G90 2 Megawats   \n",
       "472                       Wind Turbine G114 2 Megawats   \n",
       "473                       Wind Turbine G128 5 Megawats   \n",
       "474                       Wind Turbine G132 5 Megawats   \n",
       "542                                    Vending Machine   \n",
       "610                                               T300   \n",
       "671                                              Cable   \n",
       "\n",
       "                                  company  \\\n",
       "204                    Schneider Electric   \n",
       "223          Stanley Black & Decker, Inc.   \n",
       "225          Stanley Black & Decker, Inc.   \n",
       "350                               Weg S/A   \n",
       "471  Gamesa Corporación Tecnológica, S.A.   \n",
       "472  Gamesa Corporación Tecnológica, S.A.   \n",
       "473  Gamesa Corporación Tecnológica, S.A.   \n",
       "474  Gamesa Corporación Tecnológica, S.A.   \n",
       "542                                Sanden   \n",
       "610                       Tennant Company   \n",
       "671               Times Microwave Systems   \n",
       "\n",
       "                           upstream_percent_total_pcf  \\\n",
       "204                                             6.68%   \n",
       "223  N/a (product with insufficient stage-level data)   \n",
       "225  N/a (product with insufficient stage-level data)   \n",
       "350                                             0.10%   \n",
       "471  N/a (product with insufficient stage-level data)   \n",
       "472  N/a (product with insufficient stage-level data)   \n",
       "473  N/a (product with insufficient stage-level data)   \n",
       "474  N/a (product with insufficient stage-level data)   \n",
       "542                                            42.63%   \n",
       "610  N/a (product with insufficient stage-level data)   \n",
       "671  N/a (product with insufficient stage-level data)   \n",
       "\n",
       "                         operations_percent_total_pcf  \\\n",
       "204                                             1.44%   \n",
       "223  N/a (product with insufficient stage-level data)   \n",
       "225  N/a (product with insufficient stage-level data)   \n",
       "350                                             0.02%   \n",
       "471  N/a (product with insufficient stage-level data)   \n",
       "472  N/a (product with insufficient stage-level data)   \n",
       "473  N/a (product with insufficient stage-level data)   \n",
       "474  N/a (product with insufficient stage-level data)   \n",
       "542                                             6.67%   \n",
       "610  N/a (product with insufficient stage-level data)   \n",
       "671  N/a (product with insufficient stage-level data)   \n",
       "\n",
       "                         downstream_percent_total_pcf   weight_kg  \\\n",
       "204                                            91.88%       0.210   \n",
       "223  N/a (product with insufficient stage-level data)       1.820   \n",
       "225  N/a (product with insufficient stage-level data)       2.700   \n",
       "350                                            99.88%      90.000   \n",
       "471  N/a (product with insufficient stage-level data)  361000.000   \n",
       "472  N/a (product with insufficient stage-level data)  400000.000   \n",
       "473  N/a (product with insufficient stage-level data)  600000.000   \n",
       "474  N/a (product with insufficient stage-level data)  600000.000   \n",
       "542                                            50.70%     342.462   \n",
       "610  N/a (product with insufficient stage-level data)     181.000   \n",
       "671  N/a (product with insufficient stage-level data)       0.030   \n",
       "\n",
       "     carbon_footprint_pcf  \n",
       "204                19.100  \n",
       "223                55.670  \n",
       "225                88.130  \n",
       "350             20007.620  \n",
       "471           1251625.000  \n",
       "472           1532608.000  \n",
       "473           3718044.000  \n",
       "474           3276187.000  \n",
       "542              2268.100  \n",
       "610               655.000  \n",
       "671                 0.023  "
      ]
     },
     "execution_count": 26,
     "metadata": {},
     "output_type": "execute_result"
    }
   ],
   "source": [
    "result = product_emissions_df[\n",
    "    (product_emissions_df['year'] == 2015) &\n",
    "    (product_emissions_df['industry_group'] == 'Electrical Equipment and Machinery')\n",
    "][[\n",
    "    'product_name',\n",
    "    'company',\n",
    "    'upstream_percent_total_pcf',\n",
    "    'operations_percent_total_pcf',\n",
    "    'downstream_percent_total_pcf',\n",
    "    'weight_kg',\n",
    "    'carbon_footprint_pcf'\n",
    "]]\n",
    "\n",
    "result\n"
   ]
  },
  {
   "cell_type": "markdown",
   "id": "27d48626",
   "metadata": {},
   "source": [
    "## Carbon emissions normalized by product weight. \n",
    "Create additional column `carbon footprint per weight` and check the total carbon footprint and carbon footprint per weight"
   ]
  },
  {
   "cell_type": "code",
   "execution_count": 27,
   "id": "c054c756",
   "metadata": {},
   "outputs": [
    {
     "data": {
      "text/html": [
       "<div>\n",
       "<style scoped>\n",
       "    .dataframe tbody tr th:only-of-type {\n",
       "        vertical-align: middle;\n",
       "    }\n",
       "\n",
       "    .dataframe tbody tr th {\n",
       "        vertical-align: top;\n",
       "    }\n",
       "\n",
       "    .dataframe thead th {\n",
       "        text-align: right;\n",
       "    }\n",
       "</style>\n",
       "<table border=\"1\" class=\"dataframe\">\n",
       "  <thead>\n",
       "    <tr style=\"text-align: right;\">\n",
       "      <th></th>\n",
       "      <th>country</th>\n",
       "      <th>total_country_footprint</th>\n",
       "      <th>total_country_footprint_per_weight</th>\n",
       "    </tr>\n",
       "  </thead>\n",
       "  <tbody>\n",
       "    <tr>\n",
       "      <th>22</th>\n",
       "      <td>Spain</td>\n",
       "      <td>9786126.2</td>\n",
       "      <td>31.8</td>\n",
       "    </tr>\n",
       "    <tr>\n",
       "      <th>9</th>\n",
       "      <td>Germany</td>\n",
       "      <td>2251224.9</td>\n",
       "      <td>1391.2</td>\n",
       "    </tr>\n",
       "    <tr>\n",
       "      <th>15</th>\n",
       "      <td>Japan</td>\n",
       "      <td>519344.3</td>\n",
       "      <td>4938.3</td>\n",
       "    </tr>\n",
       "    <tr>\n",
       "      <th>26</th>\n",
       "      <td>USA</td>\n",
       "      <td>451869.2</td>\n",
       "      <td>13751.4</td>\n",
       "    </tr>\n",
       "    <tr>\n",
       "      <th>2</th>\n",
       "      <td>Brazil</td>\n",
       "      <td>167587.7</td>\n",
       "      <td>1804.8</td>\n",
       "    </tr>\n",
       "    <tr>\n",
       "      <th>17</th>\n",
       "      <td>Luxembourg</td>\n",
       "      <td>167007.3</td>\n",
       "      <td>2.7</td>\n",
       "    </tr>\n",
       "    <tr>\n",
       "      <th>21</th>\n",
       "      <td>South Korea</td>\n",
       "      <td>140994.1</td>\n",
       "      <td>490.9</td>\n",
       "    </tr>\n",
       "    <tr>\n",
       "      <th>19</th>\n",
       "      <td>Netherlands</td>\n",
       "      <td>70415.3</td>\n",
       "      <td>94.7</td>\n",
       "    </tr>\n",
       "    <tr>\n",
       "      <th>25</th>\n",
       "      <td>Taiwan</td>\n",
       "      <td>61513.1</td>\n",
       "      <td>1745.9</td>\n",
       "    </tr>\n",
       "    <tr>\n",
       "      <th>11</th>\n",
       "      <td>India</td>\n",
       "      <td>24574.0</td>\n",
       "      <td>24.6</td>\n",
       "    </tr>\n",
       "    <tr>\n",
       "      <th>7</th>\n",
       "      <td>Finland</td>\n",
       "      <td>21581.0</td>\n",
       "      <td>338.4</td>\n",
       "    </tr>\n",
       "    <tr>\n",
       "      <th>20</th>\n",
       "      <td>South Africa</td>\n",
       "      <td>12310.9</td>\n",
       "      <td>12.2</td>\n",
       "    </tr>\n",
       "    <tr>\n",
       "      <th>27</th>\n",
       "      <td>United Kingdom</td>\n",
       "      <td>6735.1</td>\n",
       "      <td>568.4</td>\n",
       "    </tr>\n",
       "    <tr>\n",
       "      <th>13</th>\n",
       "      <td>Ireland</td>\n",
       "      <td>5130.0</td>\n",
       "      <td>5.1</td>\n",
       "    </tr>\n",
       "    <tr>\n",
       "      <th>23</th>\n",
       "      <td>Sweden</td>\n",
       "      <td>4533.0</td>\n",
       "      <td>225.6</td>\n",
       "    </tr>\n",
       "    <tr>\n",
       "      <th>8</th>\n",
       "      <td>France</td>\n",
       "      <td>1613.8</td>\n",
       "      <td>1217.3</td>\n",
       "    </tr>\n",
       "    <tr>\n",
       "      <th>4</th>\n",
       "      <td>Chile</td>\n",
       "      <td>1555.6</td>\n",
       "      <td>1.6</td>\n",
       "    </tr>\n",
       "    <tr>\n",
       "      <th>12</th>\n",
       "      <td>Indonesia</td>\n",
       "      <td>721.0</td>\n",
       "      <td>0.7</td>\n",
       "    </tr>\n",
       "    <tr>\n",
       "      <th>3</th>\n",
       "      <td>Canada</td>\n",
       "      <td>382.2</td>\n",
       "      <td>2220.9</td>\n",
       "    </tr>\n",
       "    <tr>\n",
       "      <th>0</th>\n",
       "      <td>Australia</td>\n",
       "      <td>238.5</td>\n",
       "      <td>63.0</td>\n",
       "    </tr>\n",
       "    <tr>\n",
       "      <th>18</th>\n",
       "      <td>Malaysia</td>\n",
       "      <td>233.7</td>\n",
       "      <td>233.7</td>\n",
       "    </tr>\n",
       "    <tr>\n",
       "      <th>5</th>\n",
       "      <td>China</td>\n",
       "      <td>142.5</td>\n",
       "      <td>267.5</td>\n",
       "    </tr>\n",
       "    <tr>\n",
       "      <th>24</th>\n",
       "      <td>Switzerland</td>\n",
       "      <td>140.6</td>\n",
       "      <td>192.4</td>\n",
       "    </tr>\n",
       "    <tr>\n",
       "      <th>14</th>\n",
       "      <td>Italy</td>\n",
       "      <td>19.4</td>\n",
       "      <td>35.9</td>\n",
       "    </tr>\n",
       "    <tr>\n",
       "      <th>1</th>\n",
       "      <td>Belgium</td>\n",
       "      <td>9.4</td>\n",
       "      <td>9.4</td>\n",
       "    </tr>\n",
       "    <tr>\n",
       "      <th>10</th>\n",
       "      <td>Greece</td>\n",
       "      <td>0.7</td>\n",
       "      <td>0.7</td>\n",
       "    </tr>\n",
       "    <tr>\n",
       "      <th>16</th>\n",
       "      <td>Lithuania</td>\n",
       "      <td>0.0</td>\n",
       "      <td>0.4</td>\n",
       "    </tr>\n",
       "    <tr>\n",
       "      <th>6</th>\n",
       "      <td>Colombia</td>\n",
       "      <td>0.0</td>\n",
       "      <td>0.4</td>\n",
       "    </tr>\n",
       "  </tbody>\n",
       "</table>\n",
       "</div>"
      ],
      "text/plain": [
       "           country  total_country_footprint  \\\n",
       "22           Spain                9786126.2   \n",
       "9          Germany                2251224.9   \n",
       "15           Japan                 519344.3   \n",
       "26             USA                 451869.2   \n",
       "2           Brazil                 167587.7   \n",
       "17      Luxembourg                 167007.3   \n",
       "21     South Korea                 140994.1   \n",
       "19     Netherlands                  70415.3   \n",
       "25          Taiwan                  61513.1   \n",
       "11           India                  24574.0   \n",
       "7          Finland                  21581.0   \n",
       "20    South Africa                  12310.9   \n",
       "27  United Kingdom                   6735.1   \n",
       "13         Ireland                   5130.0   \n",
       "23          Sweden                   4533.0   \n",
       "8           France                   1613.8   \n",
       "4            Chile                   1555.6   \n",
       "12       Indonesia                    721.0   \n",
       "3           Canada                    382.2   \n",
       "0        Australia                    238.5   \n",
       "18        Malaysia                    233.7   \n",
       "5            China                    142.5   \n",
       "24     Switzerland                    140.6   \n",
       "14           Italy                     19.4   \n",
       "1          Belgium                      9.4   \n",
       "10          Greece                      0.7   \n",
       "16       Lithuania                      0.0   \n",
       "6         Colombia                      0.0   \n",
       "\n",
       "    total_country_footprint_per_weight  \n",
       "22                                31.8  \n",
       "9                               1391.2  \n",
       "15                              4938.3  \n",
       "26                             13751.4  \n",
       "2                               1804.8  \n",
       "17                                 2.7  \n",
       "21                               490.9  \n",
       "19                                94.7  \n",
       "25                              1745.9  \n",
       "11                                24.6  \n",
       "7                                338.4  \n",
       "20                                12.2  \n",
       "27                               568.4  \n",
       "13                                 5.1  \n",
       "23                               225.6  \n",
       "8                               1217.3  \n",
       "4                                  1.6  \n",
       "12                                 0.7  \n",
       "3                               2220.9  \n",
       "0                                 63.0  \n",
       "18                               233.7  \n",
       "5                                267.5  \n",
       "24                               192.4  \n",
       "14                                35.9  \n",
       "1                                  9.4  \n",
       "10                                 0.7  \n",
       "16                                 0.4  \n",
       "6                                  0.4  "
      ]
     },
     "execution_count": 27,
     "metadata": {},
     "output_type": "execute_result"
    }
   ],
   "source": [
    "# Create a new column for carbon footprint per weight\n",
    "product_emissions_df['carbon_footprint_per_weight'] = (\n",
    "    product_emissions_df['carbon_footprint_pcf'] / product_emissions_df['weight_kg']\n",
    ")\n",
    "\n",
    "# Group by country, sum total carbon footprint and sum of carbon footprint per weight\n",
    "country_emissions = (\n",
    "    product_emissions_df\n",
    "    .groupby('country')\n",
    "    .agg(\n",
    "        total_country_footprint=('carbon_footprint_pcf', 'sum'),\n",
    "        total_country_footprint_per_weight=('carbon_footprint_per_weight', 'sum')\n",
    "    )\n",
    "    .round(1)\n",
    "    .reset_index()\n",
    "    .sort_values(by='total_country_footprint', ascending=False)\n",
    ")\n",
    "\n",
    "country_emissions\n"
   ]
  },
  {
   "cell_type": "markdown",
   "id": "978dc02e",
   "metadata": {},
   "source": [
    "Order by `total_country_footprint_per_weight` and check the values for all years"
   ]
  },
  {
   "cell_type": "code",
   "execution_count": 28,
   "id": "5399b200",
   "metadata": {},
   "outputs": [
    {
     "data": {
      "text/html": [
       "<div>\n",
       "<style scoped>\n",
       "    .dataframe tbody tr th:only-of-type {\n",
       "        vertical-align: middle;\n",
       "    }\n",
       "\n",
       "    .dataframe tbody tr th {\n",
       "        vertical-align: top;\n",
       "    }\n",
       "\n",
       "    .dataframe thead th {\n",
       "        text-align: right;\n",
       "    }\n",
       "</style>\n",
       "<table border=\"1\" class=\"dataframe\">\n",
       "  <thead>\n",
       "    <tr style=\"text-align: right;\">\n",
       "      <th></th>\n",
       "      <th>country</th>\n",
       "      <th>total_country_footprint</th>\n",
       "      <th>total_country_footprint_per_weight</th>\n",
       "    </tr>\n",
       "  </thead>\n",
       "  <tbody>\n",
       "    <tr>\n",
       "      <th>26</th>\n",
       "      <td>USA</td>\n",
       "      <td>451869.2</td>\n",
       "      <td>13751.4</td>\n",
       "    </tr>\n",
       "    <tr>\n",
       "      <th>15</th>\n",
       "      <td>Japan</td>\n",
       "      <td>519344.3</td>\n",
       "      <td>4938.3</td>\n",
       "    </tr>\n",
       "    <tr>\n",
       "      <th>3</th>\n",
       "      <td>Canada</td>\n",
       "      <td>382.2</td>\n",
       "      <td>2220.9</td>\n",
       "    </tr>\n",
       "    <tr>\n",
       "      <th>2</th>\n",
       "      <td>Brazil</td>\n",
       "      <td>167587.7</td>\n",
       "      <td>1804.8</td>\n",
       "    </tr>\n",
       "    <tr>\n",
       "      <th>25</th>\n",
       "      <td>Taiwan</td>\n",
       "      <td>61513.1</td>\n",
       "      <td>1745.9</td>\n",
       "    </tr>\n",
       "    <tr>\n",
       "      <th>9</th>\n",
       "      <td>Germany</td>\n",
       "      <td>2251224.9</td>\n",
       "      <td>1391.2</td>\n",
       "    </tr>\n",
       "    <tr>\n",
       "      <th>8</th>\n",
       "      <td>France</td>\n",
       "      <td>1613.8</td>\n",
       "      <td>1217.3</td>\n",
       "    </tr>\n",
       "    <tr>\n",
       "      <th>27</th>\n",
       "      <td>United Kingdom</td>\n",
       "      <td>6735.1</td>\n",
       "      <td>568.4</td>\n",
       "    </tr>\n",
       "    <tr>\n",
       "      <th>21</th>\n",
       "      <td>South Korea</td>\n",
       "      <td>140994.1</td>\n",
       "      <td>490.9</td>\n",
       "    </tr>\n",
       "    <tr>\n",
       "      <th>7</th>\n",
       "      <td>Finland</td>\n",
       "      <td>21581.0</td>\n",
       "      <td>338.4</td>\n",
       "    </tr>\n",
       "    <tr>\n",
       "      <th>5</th>\n",
       "      <td>China</td>\n",
       "      <td>142.5</td>\n",
       "      <td>267.5</td>\n",
       "    </tr>\n",
       "    <tr>\n",
       "      <th>18</th>\n",
       "      <td>Malaysia</td>\n",
       "      <td>233.7</td>\n",
       "      <td>233.7</td>\n",
       "    </tr>\n",
       "    <tr>\n",
       "      <th>23</th>\n",
       "      <td>Sweden</td>\n",
       "      <td>4533.0</td>\n",
       "      <td>225.6</td>\n",
       "    </tr>\n",
       "    <tr>\n",
       "      <th>24</th>\n",
       "      <td>Switzerland</td>\n",
       "      <td>140.6</td>\n",
       "      <td>192.4</td>\n",
       "    </tr>\n",
       "    <tr>\n",
       "      <th>19</th>\n",
       "      <td>Netherlands</td>\n",
       "      <td>70415.3</td>\n",
       "      <td>94.7</td>\n",
       "    </tr>\n",
       "    <tr>\n",
       "      <th>0</th>\n",
       "      <td>Australia</td>\n",
       "      <td>238.5</td>\n",
       "      <td>63.0</td>\n",
       "    </tr>\n",
       "    <tr>\n",
       "      <th>14</th>\n",
       "      <td>Italy</td>\n",
       "      <td>19.4</td>\n",
       "      <td>35.9</td>\n",
       "    </tr>\n",
       "    <tr>\n",
       "      <th>22</th>\n",
       "      <td>Spain</td>\n",
       "      <td>9786126.2</td>\n",
       "      <td>31.8</td>\n",
       "    </tr>\n",
       "    <tr>\n",
       "      <th>11</th>\n",
       "      <td>India</td>\n",
       "      <td>24574.0</td>\n",
       "      <td>24.6</td>\n",
       "    </tr>\n",
       "    <tr>\n",
       "      <th>20</th>\n",
       "      <td>South Africa</td>\n",
       "      <td>12310.9</td>\n",
       "      <td>12.2</td>\n",
       "    </tr>\n",
       "    <tr>\n",
       "      <th>1</th>\n",
       "      <td>Belgium</td>\n",
       "      <td>9.4</td>\n",
       "      <td>9.4</td>\n",
       "    </tr>\n",
       "    <tr>\n",
       "      <th>13</th>\n",
       "      <td>Ireland</td>\n",
       "      <td>5130.0</td>\n",
       "      <td>5.1</td>\n",
       "    </tr>\n",
       "    <tr>\n",
       "      <th>17</th>\n",
       "      <td>Luxembourg</td>\n",
       "      <td>167007.3</td>\n",
       "      <td>2.7</td>\n",
       "    </tr>\n",
       "    <tr>\n",
       "      <th>4</th>\n",
       "      <td>Chile</td>\n",
       "      <td>1555.6</td>\n",
       "      <td>1.6</td>\n",
       "    </tr>\n",
       "    <tr>\n",
       "      <th>12</th>\n",
       "      <td>Indonesia</td>\n",
       "      <td>721.0</td>\n",
       "      <td>0.7</td>\n",
       "    </tr>\n",
       "    <tr>\n",
       "      <th>10</th>\n",
       "      <td>Greece</td>\n",
       "      <td>0.7</td>\n",
       "      <td>0.7</td>\n",
       "    </tr>\n",
       "    <tr>\n",
       "      <th>16</th>\n",
       "      <td>Lithuania</td>\n",
       "      <td>0.0</td>\n",
       "      <td>0.4</td>\n",
       "    </tr>\n",
       "    <tr>\n",
       "      <th>6</th>\n",
       "      <td>Colombia</td>\n",
       "      <td>0.0</td>\n",
       "      <td>0.4</td>\n",
       "    </tr>\n",
       "  </tbody>\n",
       "</table>\n",
       "</div>"
      ],
      "text/plain": [
       "           country  total_country_footprint  \\\n",
       "26             USA                 451869.2   \n",
       "15           Japan                 519344.3   \n",
       "3           Canada                    382.2   \n",
       "2           Brazil                 167587.7   \n",
       "25          Taiwan                  61513.1   \n",
       "9          Germany                2251224.9   \n",
       "8           France                   1613.8   \n",
       "27  United Kingdom                   6735.1   \n",
       "21     South Korea                 140994.1   \n",
       "7          Finland                  21581.0   \n",
       "5            China                    142.5   \n",
       "18        Malaysia                    233.7   \n",
       "23          Sweden                   4533.0   \n",
       "24     Switzerland                    140.6   \n",
       "19     Netherlands                  70415.3   \n",
       "0        Australia                    238.5   \n",
       "14           Italy                     19.4   \n",
       "22           Spain                9786126.2   \n",
       "11           India                  24574.0   \n",
       "20    South Africa                  12310.9   \n",
       "1          Belgium                      9.4   \n",
       "13         Ireland                   5130.0   \n",
       "17      Luxembourg                 167007.3   \n",
       "4            Chile                   1555.6   \n",
       "12       Indonesia                    721.0   \n",
       "10          Greece                      0.7   \n",
       "16       Lithuania                      0.0   \n",
       "6         Colombia                      0.0   \n",
       "\n",
       "    total_country_footprint_per_weight  \n",
       "26                             13751.4  \n",
       "15                              4938.3  \n",
       "3                               2220.9  \n",
       "2                               1804.8  \n",
       "25                              1745.9  \n",
       "9                               1391.2  \n",
       "8                               1217.3  \n",
       "27                               568.4  \n",
       "21                               490.9  \n",
       "7                                338.4  \n",
       "5                                267.5  \n",
       "18                               233.7  \n",
       "23                               225.6  \n",
       "24                               192.4  \n",
       "19                                94.7  \n",
       "0                                 63.0  \n",
       "14                                35.9  \n",
       "22                                31.8  \n",
       "11                                24.6  \n",
       "20                                12.2  \n",
       "1                                  9.4  \n",
       "13                                 5.1  \n",
       "17                                 2.7  \n",
       "4                                  1.6  \n",
       "12                                 0.7  \n",
       "10                                 0.7  \n",
       "16                                 0.4  \n",
       "6                                  0.4  "
      ]
     },
     "execution_count": 28,
     "metadata": {},
     "output_type": "execute_result"
    }
   ],
   "source": [
    "# Create a new column for carbon footprint per weight\n",
    "product_emissions_df['carbon_footprint_per_weight'] = (\n",
    "    product_emissions_df['carbon_footprint_pcf'] / product_emissions_df['weight_kg']\n",
    ")\n",
    "\n",
    "# Group by country, sum total carbon footprint and sum of carbon footprint per weight\n",
    "country_emissions = (\n",
    "    product_emissions_df\n",
    "    .groupby('country')\n",
    "    .agg(\n",
    "        total_country_footprint=('carbon_footprint_pcf', 'sum'),\n",
    "        total_country_footprint_per_weight=('carbon_footprint_per_weight', 'sum')\n",
    "    )\n",
    "    .round(1)\n",
    "    .reset_index()\n",
    "    .sort_values(by='total_country_footprint_per_weight', ascending=False)\n",
    ")\n",
    "\n",
    "country_emissions\n"
   ]
  },
  {
   "cell_type": "markdown",
   "id": "b38eb1da",
   "metadata": {},
   "source": [
    "Order by `total_country_footprint_per_weight` and check the values for 2015 year"
   ]
  },
  {
   "cell_type": "code",
   "execution_count": 29,
   "id": "e6a356dd",
   "metadata": {},
   "outputs": [
    {
     "data": {
      "text/html": [
       "<div>\n",
       "<style scoped>\n",
       "    .dataframe tbody tr th:only-of-type {\n",
       "        vertical-align: middle;\n",
       "    }\n",
       "\n",
       "    .dataframe tbody tr th {\n",
       "        vertical-align: top;\n",
       "    }\n",
       "\n",
       "    .dataframe thead th {\n",
       "        text-align: right;\n",
       "    }\n",
       "</style>\n",
       "<table border=\"1\" class=\"dataframe\">\n",
       "  <thead>\n",
       "    <tr style=\"text-align: right;\">\n",
       "      <th></th>\n",
       "      <th>country</th>\n",
       "      <th>year</th>\n",
       "      <th>total_country_footprint</th>\n",
       "      <th>total_country_footprint_per_weight</th>\n",
       "    </tr>\n",
       "  </thead>\n",
       "  <tbody>\n",
       "    <tr>\n",
       "      <th>20</th>\n",
       "      <td>USA</td>\n",
       "      <td>2015</td>\n",
       "      <td>76200.4</td>\n",
       "      <td>2964.2</td>\n",
       "    </tr>\n",
       "    <tr>\n",
       "      <th>12</th>\n",
       "      <td>Japan</td>\n",
       "      <td>2015</td>\n",
       "      <td>32291.2</td>\n",
       "      <td>1291.6</td>\n",
       "    </tr>\n",
       "    <tr>\n",
       "      <th>7</th>\n",
       "      <td>Germany</td>\n",
       "      <td>2015</td>\n",
       "      <td>778127.0</td>\n",
       "      <td>502.1</td>\n",
       "    </tr>\n",
       "    <tr>\n",
       "      <th>6</th>\n",
       "      <td>France</td>\n",
       "      <td>2015</td>\n",
       "      <td>186.0</td>\n",
       "      <td>365.5</td>\n",
       "    </tr>\n",
       "    <tr>\n",
       "      <th>3</th>\n",
       "      <td>Canada</td>\n",
       "      <td>2015</td>\n",
       "      <td>65.1</td>\n",
       "      <td>317.6</td>\n",
       "    </tr>\n",
       "    <tr>\n",
       "      <th>15</th>\n",
       "      <td>South Korea</td>\n",
       "      <td>2015</td>\n",
       "      <td>17511.2</td>\n",
       "      <td>302.5</td>\n",
       "    </tr>\n",
       "    <tr>\n",
       "      <th>19</th>\n",
       "      <td>Taiwan</td>\n",
       "      <td>2015</td>\n",
       "      <td>58605.2</td>\n",
       "      <td>268.4</td>\n",
       "    </tr>\n",
       "    <tr>\n",
       "      <th>2</th>\n",
       "      <td>Brazil</td>\n",
       "      <td>2015</td>\n",
       "      <td>20012.0</td>\n",
       "      <td>226.7</td>\n",
       "    </tr>\n",
       "    <tr>\n",
       "      <th>21</th>\n",
       "      <td>United Kingdom</td>\n",
       "      <td>2015</td>\n",
       "      <td>702.7</td>\n",
       "      <td>135.0</td>\n",
       "    </tr>\n",
       "    <tr>\n",
       "      <th>17</th>\n",
       "      <td>Sweden</td>\n",
       "      <td>2015</td>\n",
       "      <td>1237.1</td>\n",
       "      <td>71.9</td>\n",
       "    </tr>\n",
       "    <tr>\n",
       "      <th>0</th>\n",
       "      <td>Australia</td>\n",
       "      <td>2015</td>\n",
       "      <td>238.5</td>\n",
       "      <td>63.0</td>\n",
       "    </tr>\n",
       "    <tr>\n",
       "      <th>18</th>\n",
       "      <td>Switzerland</td>\n",
       "      <td>2015</td>\n",
       "      <td>17.0</td>\n",
       "      <td>44.8</td>\n",
       "    </tr>\n",
       "    <tr>\n",
       "      <th>13</th>\n",
       "      <td>Netherlands</td>\n",
       "      <td>2015</td>\n",
       "      <td>23250.0</td>\n",
       "      <td>23.2</td>\n",
       "    </tr>\n",
       "    <tr>\n",
       "      <th>16</th>\n",
       "      <td>Spain</td>\n",
       "      <td>2015</td>\n",
       "      <td>9778644.0</td>\n",
       "      <td>19.1</td>\n",
       "    </tr>\n",
       "    <tr>\n",
       "      <th>11</th>\n",
       "      <td>Italy</td>\n",
       "      <td>2015</td>\n",
       "      <td>7.5</td>\n",
       "      <td>13.0</td>\n",
       "    </tr>\n",
       "    <tr>\n",
       "      <th>9</th>\n",
       "      <td>India</td>\n",
       "      <td>2015</td>\n",
       "      <td>12239.0</td>\n",
       "      <td>12.2</td>\n",
       "    </tr>\n",
       "    <tr>\n",
       "      <th>5</th>\n",
       "      <td>Finland</td>\n",
       "      <td>2015</td>\n",
       "      <td>8037.0</td>\n",
       "      <td>8.0</td>\n",
       "    </tr>\n",
       "    <tr>\n",
       "      <th>1</th>\n",
       "      <td>Belgium</td>\n",
       "      <td>2015</td>\n",
       "      <td>3.5</td>\n",
       "      <td>3.5</td>\n",
       "    </tr>\n",
       "    <tr>\n",
       "      <th>10</th>\n",
       "      <td>Ireland</td>\n",
       "      <td>2015</td>\n",
       "      <td>1710.0</td>\n",
       "      <td>1.7</td>\n",
       "    </tr>\n",
       "    <tr>\n",
       "      <th>14</th>\n",
       "      <td>South Africa</td>\n",
       "      <td>2015</td>\n",
       "      <td>871.0</td>\n",
       "      <td>0.9</td>\n",
       "    </tr>\n",
       "    <tr>\n",
       "      <th>8</th>\n",
       "      <td>Greece</td>\n",
       "      <td>2015</td>\n",
       "      <td>0.7</td>\n",
       "      <td>0.7</td>\n",
       "    </tr>\n",
       "    <tr>\n",
       "      <th>4</th>\n",
       "      <td>Chile</td>\n",
       "      <td>2015</td>\n",
       "      <td>451.5</td>\n",
       "      <td>0.5</td>\n",
       "    </tr>\n",
       "  </tbody>\n",
       "</table>\n",
       "</div>"
      ],
      "text/plain": [
       "           country  year  total_country_footprint  \\\n",
       "20             USA  2015                  76200.4   \n",
       "12           Japan  2015                  32291.2   \n",
       "7          Germany  2015                 778127.0   \n",
       "6           France  2015                    186.0   \n",
       "3           Canada  2015                     65.1   \n",
       "15     South Korea  2015                  17511.2   \n",
       "19          Taiwan  2015                  58605.2   \n",
       "2           Brazil  2015                  20012.0   \n",
       "21  United Kingdom  2015                    702.7   \n",
       "17          Sweden  2015                   1237.1   \n",
       "0        Australia  2015                    238.5   \n",
       "18     Switzerland  2015                     17.0   \n",
       "13     Netherlands  2015                  23250.0   \n",
       "16           Spain  2015                9778644.0   \n",
       "11           Italy  2015                      7.5   \n",
       "9            India  2015                  12239.0   \n",
       "5          Finland  2015                   8037.0   \n",
       "1          Belgium  2015                      3.5   \n",
       "10         Ireland  2015                   1710.0   \n",
       "14    South Africa  2015                    871.0   \n",
       "8           Greece  2015                      0.7   \n",
       "4            Chile  2015                    451.5   \n",
       "\n",
       "    total_country_footprint_per_weight  \n",
       "20                              2964.2  \n",
       "12                              1291.6  \n",
       "7                                502.1  \n",
       "6                                365.5  \n",
       "3                                317.6  \n",
       "15                               302.5  \n",
       "19                               268.4  \n",
       "2                                226.7  \n",
       "21                               135.0  \n",
       "17                                71.9  \n",
       "0                                 63.0  \n",
       "18                                44.8  \n",
       "13                                23.2  \n",
       "16                                19.1  \n",
       "11                                13.0  \n",
       "9                                 12.2  \n",
       "5                                  8.0  \n",
       "1                                  3.5  \n",
       "10                                 1.7  \n",
       "14                                 0.9  \n",
       "8                                  0.7  \n",
       "4                                  0.5  "
      ]
     },
     "execution_count": 29,
     "metadata": {},
     "output_type": "execute_result"
    }
   ],
   "source": [
    "# Create the calculated column: carbon_footprint_per_weight\n",
    "product_emissions_df['carbon_footprint_per_weight'] = (\n",
    "    product_emissions_df['carbon_footprint_pcf'] / product_emissions_df['weight_kg']\n",
    ")\n",
    "\n",
    "# Filter for year 2015\n",
    "df_2015 = product_emissions_df[product_emissions_df['year'] == 2015]\n",
    "\n",
    "# Group by country and year, then aggregate and round\n",
    "emissions_2015 = (\n",
    "    df_2015\n",
    "    .groupby(['country', 'year'])\n",
    "    .agg(\n",
    "        total_country_footprint=('carbon_footprint_pcf', 'sum'),\n",
    "        total_country_footprint_per_weight=('carbon_footprint_per_weight', 'sum')\n",
    "    )\n",
    "    .round(1)\n",
    "    .reset_index()\n",
    "    .sort_values(by='total_country_footprint_per_weight', ascending=False)\n",
    ")\n",
    "\n",
    "emissions_2015\n"
   ]
  },
  {
   "cell_type": "code",
   "execution_count": 28,
   "id": "2e95ba69",
   "metadata": {},
   "outputs": [
    {
     "data": {
      "application/vnd.plotly.v1+json": {
       "config": {
        "plotlyServerURL": "https://plot.ly"
       },
       "data": [
        {
         "hovertemplate": "country=%{x}<br>total_country_footprint_per_weight=%{y}<extra></extra>",
         "legendgroup": "",
         "marker": {
          "color": "#636efa",
          "pattern": {
           "shape": ""
          }
         },
         "name": "",
         "orientation": "v",
         "showlegend": false,
         "textposition": "auto",
         "type": "bar",
         "x": [
          "USA",
          "Japan",
          "Germany",
          "France",
          "Canada",
          "South Korea",
          "Taiwan",
          "Brazil",
          "United Kingdom",
          "Sweden",
          "Australia",
          "Switzerland",
          "Netherlands",
          "Spain",
          "Italy",
          "India",
          "Finland",
          "Belgium",
          "Ireland",
          "South Africa",
          "Greece",
          "Chile"
         ],
         "xaxis": "x",
         "y": {
          "bdata": "ZmZmZmYop0BmZmZmZi6UQJqZmZmZYX9AAAAAAADYdkCamZmZmdlzQAAAAAAA6HJAZmZmZmbGcEBmZmZmZlZsQAAAAAAA4GBAmpmZmZn5UUAAAAAAAIBPQGZmZmZmZkZAMzMzMzMzN0CamZmZmRkzQAAAAAAAACpAZmZmZmZmKEAAAAAAAAAgQAAAAAAAAAxAMzMzMzMz+z/NzMzMzMzsP2ZmZmZmZuY/AAAAAAAA4D8=",
          "dtype": "f8"
         },
         "yaxis": "y"
        }
       ],
       "layout": {
        "barmode": "relative",
        "legend": {
         "tracegroupgap": 0
        },
        "template": {
         "data": {
          "bar": [
           {
            "error_x": {
             "color": "#2a3f5f"
            },
            "error_y": {
             "color": "#2a3f5f"
            },
            "marker": {
             "line": {
              "color": "#E5ECF6",
              "width": 0.5
             },
             "pattern": {
              "fillmode": "overlay",
              "size": 10,
              "solidity": 0.2
             }
            },
            "type": "bar"
           }
          ],
          "barpolar": [
           {
            "marker": {
             "line": {
              "color": "#E5ECF6",
              "width": 0.5
             },
             "pattern": {
              "fillmode": "overlay",
              "size": 10,
              "solidity": 0.2
             }
            },
            "type": "barpolar"
           }
          ],
          "carpet": [
           {
            "aaxis": {
             "endlinecolor": "#2a3f5f",
             "gridcolor": "white",
             "linecolor": "white",
             "minorgridcolor": "white",
             "startlinecolor": "#2a3f5f"
            },
            "baxis": {
             "endlinecolor": "#2a3f5f",
             "gridcolor": "white",
             "linecolor": "white",
             "minorgridcolor": "white",
             "startlinecolor": "#2a3f5f"
            },
            "type": "carpet"
           }
          ],
          "choropleth": [
           {
            "colorbar": {
             "outlinewidth": 0,
             "ticks": ""
            },
            "type": "choropleth"
           }
          ],
          "contour": [
           {
            "colorbar": {
             "outlinewidth": 0,
             "ticks": ""
            },
            "colorscale": [
             [
              0,
              "#0d0887"
             ],
             [
              0.1111111111111111,
              "#46039f"
             ],
             [
              0.2222222222222222,
              "#7201a8"
             ],
             [
              0.3333333333333333,
              "#9c179e"
             ],
             [
              0.4444444444444444,
              "#bd3786"
             ],
             [
              0.5555555555555556,
              "#d8576b"
             ],
             [
              0.6666666666666666,
              "#ed7953"
             ],
             [
              0.7777777777777778,
              "#fb9f3a"
             ],
             [
              0.8888888888888888,
              "#fdca26"
             ],
             [
              1,
              "#f0f921"
             ]
            ],
            "type": "contour"
           }
          ],
          "contourcarpet": [
           {
            "colorbar": {
             "outlinewidth": 0,
             "ticks": ""
            },
            "type": "contourcarpet"
           }
          ],
          "heatmap": [
           {
            "colorbar": {
             "outlinewidth": 0,
             "ticks": ""
            },
            "colorscale": [
             [
              0,
              "#0d0887"
             ],
             [
              0.1111111111111111,
              "#46039f"
             ],
             [
              0.2222222222222222,
              "#7201a8"
             ],
             [
              0.3333333333333333,
              "#9c179e"
             ],
             [
              0.4444444444444444,
              "#bd3786"
             ],
             [
              0.5555555555555556,
              "#d8576b"
             ],
             [
              0.6666666666666666,
              "#ed7953"
             ],
             [
              0.7777777777777778,
              "#fb9f3a"
             ],
             [
              0.8888888888888888,
              "#fdca26"
             ],
             [
              1,
              "#f0f921"
             ]
            ],
            "type": "heatmap"
           }
          ],
          "histogram": [
           {
            "marker": {
             "pattern": {
              "fillmode": "overlay",
              "size": 10,
              "solidity": 0.2
             }
            },
            "type": "histogram"
           }
          ],
          "histogram2d": [
           {
            "colorbar": {
             "outlinewidth": 0,
             "ticks": ""
            },
            "colorscale": [
             [
              0,
              "#0d0887"
             ],
             [
              0.1111111111111111,
              "#46039f"
             ],
             [
              0.2222222222222222,
              "#7201a8"
             ],
             [
              0.3333333333333333,
              "#9c179e"
             ],
             [
              0.4444444444444444,
              "#bd3786"
             ],
             [
              0.5555555555555556,
              "#d8576b"
             ],
             [
              0.6666666666666666,
              "#ed7953"
             ],
             [
              0.7777777777777778,
              "#fb9f3a"
             ],
             [
              0.8888888888888888,
              "#fdca26"
             ],
             [
              1,
              "#f0f921"
             ]
            ],
            "type": "histogram2d"
           }
          ],
          "histogram2dcontour": [
           {
            "colorbar": {
             "outlinewidth": 0,
             "ticks": ""
            },
            "colorscale": [
             [
              0,
              "#0d0887"
             ],
             [
              0.1111111111111111,
              "#46039f"
             ],
             [
              0.2222222222222222,
              "#7201a8"
             ],
             [
              0.3333333333333333,
              "#9c179e"
             ],
             [
              0.4444444444444444,
              "#bd3786"
             ],
             [
              0.5555555555555556,
              "#d8576b"
             ],
             [
              0.6666666666666666,
              "#ed7953"
             ],
             [
              0.7777777777777778,
              "#fb9f3a"
             ],
             [
              0.8888888888888888,
              "#fdca26"
             ],
             [
              1,
              "#f0f921"
             ]
            ],
            "type": "histogram2dcontour"
           }
          ],
          "mesh3d": [
           {
            "colorbar": {
             "outlinewidth": 0,
             "ticks": ""
            },
            "type": "mesh3d"
           }
          ],
          "parcoords": [
           {
            "line": {
             "colorbar": {
              "outlinewidth": 0,
              "ticks": ""
             }
            },
            "type": "parcoords"
           }
          ],
          "pie": [
           {
            "automargin": true,
            "type": "pie"
           }
          ],
          "scatter": [
           {
            "fillpattern": {
             "fillmode": "overlay",
             "size": 10,
             "solidity": 0.2
            },
            "type": "scatter"
           }
          ],
          "scatter3d": [
           {
            "line": {
             "colorbar": {
              "outlinewidth": 0,
              "ticks": ""
             }
            },
            "marker": {
             "colorbar": {
              "outlinewidth": 0,
              "ticks": ""
             }
            },
            "type": "scatter3d"
           }
          ],
          "scattercarpet": [
           {
            "marker": {
             "colorbar": {
              "outlinewidth": 0,
              "ticks": ""
             }
            },
            "type": "scattercarpet"
           }
          ],
          "scattergeo": [
           {
            "marker": {
             "colorbar": {
              "outlinewidth": 0,
              "ticks": ""
             }
            },
            "type": "scattergeo"
           }
          ],
          "scattergl": [
           {
            "marker": {
             "colorbar": {
              "outlinewidth": 0,
              "ticks": ""
             }
            },
            "type": "scattergl"
           }
          ],
          "scattermap": [
           {
            "marker": {
             "colorbar": {
              "outlinewidth": 0,
              "ticks": ""
             }
            },
            "type": "scattermap"
           }
          ],
          "scattermapbox": [
           {
            "marker": {
             "colorbar": {
              "outlinewidth": 0,
              "ticks": ""
             }
            },
            "type": "scattermapbox"
           }
          ],
          "scatterpolar": [
           {
            "marker": {
             "colorbar": {
              "outlinewidth": 0,
              "ticks": ""
             }
            },
            "type": "scatterpolar"
           }
          ],
          "scatterpolargl": [
           {
            "marker": {
             "colorbar": {
              "outlinewidth": 0,
              "ticks": ""
             }
            },
            "type": "scatterpolargl"
           }
          ],
          "scatterternary": [
           {
            "marker": {
             "colorbar": {
              "outlinewidth": 0,
              "ticks": ""
             }
            },
            "type": "scatterternary"
           }
          ],
          "surface": [
           {
            "colorbar": {
             "outlinewidth": 0,
             "ticks": ""
            },
            "colorscale": [
             [
              0,
              "#0d0887"
             ],
             [
              0.1111111111111111,
              "#46039f"
             ],
             [
              0.2222222222222222,
              "#7201a8"
             ],
             [
              0.3333333333333333,
              "#9c179e"
             ],
             [
              0.4444444444444444,
              "#bd3786"
             ],
             [
              0.5555555555555556,
              "#d8576b"
             ],
             [
              0.6666666666666666,
              "#ed7953"
             ],
             [
              0.7777777777777778,
              "#fb9f3a"
             ],
             [
              0.8888888888888888,
              "#fdca26"
             ],
             [
              1,
              "#f0f921"
             ]
            ],
            "type": "surface"
           }
          ],
          "table": [
           {
            "cells": {
             "fill": {
              "color": "#EBF0F8"
             },
             "line": {
              "color": "white"
             }
            },
            "header": {
             "fill": {
              "color": "#C8D4E3"
             },
             "line": {
              "color": "white"
             }
            },
            "type": "table"
           }
          ]
         },
         "layout": {
          "annotationdefaults": {
           "arrowcolor": "#2a3f5f",
           "arrowhead": 0,
           "arrowwidth": 1
          },
          "autotypenumbers": "strict",
          "coloraxis": {
           "colorbar": {
            "outlinewidth": 0,
            "ticks": ""
           }
          },
          "colorscale": {
           "diverging": [
            [
             0,
             "#8e0152"
            ],
            [
             0.1,
             "#c51b7d"
            ],
            [
             0.2,
             "#de77ae"
            ],
            [
             0.3,
             "#f1b6da"
            ],
            [
             0.4,
             "#fde0ef"
            ],
            [
             0.5,
             "#f7f7f7"
            ],
            [
             0.6,
             "#e6f5d0"
            ],
            [
             0.7,
             "#b8e186"
            ],
            [
             0.8,
             "#7fbc41"
            ],
            [
             0.9,
             "#4d9221"
            ],
            [
             1,
             "#276419"
            ]
           ],
           "sequential": [
            [
             0,
             "#0d0887"
            ],
            [
             0.1111111111111111,
             "#46039f"
            ],
            [
             0.2222222222222222,
             "#7201a8"
            ],
            [
             0.3333333333333333,
             "#9c179e"
            ],
            [
             0.4444444444444444,
             "#bd3786"
            ],
            [
             0.5555555555555556,
             "#d8576b"
            ],
            [
             0.6666666666666666,
             "#ed7953"
            ],
            [
             0.7777777777777778,
             "#fb9f3a"
            ],
            [
             0.8888888888888888,
             "#fdca26"
            ],
            [
             1,
             "#f0f921"
            ]
           ],
           "sequentialminus": [
            [
             0,
             "#0d0887"
            ],
            [
             0.1111111111111111,
             "#46039f"
            ],
            [
             0.2222222222222222,
             "#7201a8"
            ],
            [
             0.3333333333333333,
             "#9c179e"
            ],
            [
             0.4444444444444444,
             "#bd3786"
            ],
            [
             0.5555555555555556,
             "#d8576b"
            ],
            [
             0.6666666666666666,
             "#ed7953"
            ],
            [
             0.7777777777777778,
             "#fb9f3a"
            ],
            [
             0.8888888888888888,
             "#fdca26"
            ],
            [
             1,
             "#f0f921"
            ]
           ]
          },
          "colorway": [
           "#636efa",
           "#EF553B",
           "#00cc96",
           "#ab63fa",
           "#FFA15A",
           "#19d3f3",
           "#FF6692",
           "#B6E880",
           "#FF97FF",
           "#FECB52"
          ],
          "font": {
           "color": "#2a3f5f"
          },
          "geo": {
           "bgcolor": "white",
           "lakecolor": "white",
           "landcolor": "#E5ECF6",
           "showlakes": true,
           "showland": true,
           "subunitcolor": "white"
          },
          "hoverlabel": {
           "align": "left"
          },
          "hovermode": "closest",
          "mapbox": {
           "style": "light"
          },
          "paper_bgcolor": "white",
          "plot_bgcolor": "#E5ECF6",
          "polar": {
           "angularaxis": {
            "gridcolor": "white",
            "linecolor": "white",
            "ticks": ""
           },
           "bgcolor": "#E5ECF6",
           "radialaxis": {
            "gridcolor": "white",
            "linecolor": "white",
            "ticks": ""
           }
          },
          "scene": {
           "xaxis": {
            "backgroundcolor": "#E5ECF6",
            "gridcolor": "white",
            "gridwidth": 2,
            "linecolor": "white",
            "showbackground": true,
            "ticks": "",
            "zerolinecolor": "white"
           },
           "yaxis": {
            "backgroundcolor": "#E5ECF6",
            "gridcolor": "white",
            "gridwidth": 2,
            "linecolor": "white",
            "showbackground": true,
            "ticks": "",
            "zerolinecolor": "white"
           },
           "zaxis": {
            "backgroundcolor": "#E5ECF6",
            "gridcolor": "white",
            "gridwidth": 2,
            "linecolor": "white",
            "showbackground": true,
            "ticks": "",
            "zerolinecolor": "white"
           }
          },
          "shapedefaults": {
           "line": {
            "color": "#2a3f5f"
           }
          },
          "ternary": {
           "aaxis": {
            "gridcolor": "white",
            "linecolor": "white",
            "ticks": ""
           },
           "baxis": {
            "gridcolor": "white",
            "linecolor": "white",
            "ticks": ""
           },
           "bgcolor": "#E5ECF6",
           "caxis": {
            "gridcolor": "white",
            "linecolor": "white",
            "ticks": ""
           }
          },
          "title": {
           "x": 0.05
          },
          "xaxis": {
           "automargin": true,
           "gridcolor": "white",
           "linecolor": "white",
           "ticks": "",
           "title": {
            "standoff": 15
           },
           "zerolinecolor": "white",
           "zerolinewidth": 2
          },
          "yaxis": {
           "automargin": true,
           "gridcolor": "white",
           "linecolor": "white",
           "ticks": "",
           "title": {
            "standoff": 15
           },
           "zerolinecolor": "white",
           "zerolinewidth": 2
          }
         }
        },
        "title": {
         "text": "Carbon Emissions Normalized by Product Weight"
        },
        "xaxis": {
         "anchor": "y",
         "domain": [
          0,
          1
         ],
         "title": {
          "text": "country"
         }
        },
        "yaxis": {
         "anchor": "x",
         "domain": [
          0,
          1
         ],
         "title": {
          "text": "total_country_footprint_per_weight"
         }
        }
       }
      }
     },
     "metadata": {},
     "output_type": "display_data"
    }
   ],
   "source": [
    "# Create a plotly bar chart of the country distribution for total_country_footprint_per_weight\n",
    "fig = px.bar(emissions_2015, x=\"country\", y=\"total_country_footprint_per_weight\", title=\"Carbon Emissions Normalized by Product Weight\")\n",
    "fig.show()"
   ]
  },
  {
   "cell_type": "code",
   "execution_count": 33,
   "id": "03637302",
   "metadata": {},
   "outputs": [
    {
     "data": {
      "image/png": "[encoded data removed]",
      "text/plain": [
       "<Figure size 1000x600 with 1 Axes>"
      ]
     },
     "metadata": {},
     "output_type": "display_data"
    }
   ],
   "source": [
    "# Sort values for better readability (optional)\n",
    "emissions_2015_sorted = emissions_2015.sort_values(by=\"total_country_footprint_per_weight\", ascending=False)\n",
    "\n",
    "# Create the bar chart\n",
    "plt.figure(figsize=(10, 6))\n",
    "plt.bar(emissions_2015_sorted[\"country\"], emissions_2015_sorted[\"total_country_footprint_per_weight\"], color=\"blue\")\n",
    "\n",
    "# Add labels and title\n",
    "plt.xlabel(\"Country\")\n",
    "plt.ylabel(\"Emissions per Unit Weight\")\n",
    "plt.title(\"Carbon Emissions Normalized by Product Weight (2015)\")\n",
    "plt.xticks(rotation=45, ha=\"right\")\n",
    "plt.tight_layout()\n",
    "\n",
    "# Show the plot\n",
    "plt.show()"
   ]
  },
  {
   "cell_type": "code",
   "execution_count": 34,
   "id": "2d17afce",
   "metadata": {},
   "outputs": [],
   "source": [
    "# Count number of companies per country\n",
    "country_counts = product_emissions_df[\"country\"].value_counts().reset_index()\n",
    "country_counts.columns = [\"country\", \"count\"]"
   ]
  },
  {
   "cell_type": "code",
   "execution_count": 141,
   "id": "7832f609",
   "metadata": {},
   "outputs": [
    {
     "data": {
      "application/vnd.plotly.v1+json": {
       "config": {
        "plotlyServerURL": "https://plot.ly"
       },
       "data": [
        {
         "hovertemplate": "country=%{x}<br>count=%{y}<extra></extra>",
         "legendgroup": "",
         "marker": {
          "color": "#636efa",
          "pattern": {
           "shape": ""
          }
         },
         "name": "",
         "orientation": "v",
         "showlegend": false,
         "textposition": "auto",
         "type": "bar",
         "x": [
          "USA",
          "Japan",
          "Germany",
          "Taiwan",
          "Netherlands",
          "Finland",
          "United Kingdom",
          "Switzerland",
          "Sweden",
          "Italy",
          "South Korea",
          "France",
          "Brazil",
          "India",
          "Spain",
          "South Africa",
          "Belgium",
          "China",
          "Canada",
          "Ireland",
          "Australia",
          "Malaysia",
          "Chile",
          "Colombia",
          "Luxembourg",
          "Lithuania",
          "Indonesia",
          "Greece"
         ],
         "xaxis": "x",
         "y": {
          "bdata": "MQFuAEMAPAAjACMAIAAcABoAFwAWABQAEQAQAA0ACwAIAAYABgAGAAYABAADAAIAAgABAAEAAQA=",
          "dtype": "i2"
         },
         "yaxis": "y"
        }
       ],
       "layout": {
        "barmode": "relative",
        "legend": {
         "tracegroupgap": 0
        },
        "template": {
         "data": {
          "bar": [
           {
            "error_x": {
             "color": "#2a3f5f"
            },
            "error_y": {
             "color": "#2a3f5f"
            },
            "marker": {
             "line": {
              "color": "#E5ECF6",
              "width": 0.5
             },
             "pattern": {
              "fillmode": "overlay",
              "size": 10,
              "solidity": 0.2
             }
            },
            "type": "bar"
           }
          ],
          "barpolar": [
           {
            "marker": {
             "line": {
              "color": "#E5ECF6",
              "width": 0.5
             },
             "pattern": {
              "fillmode": "overlay",
              "size": 10,
              "solidity": 0.2
             }
            },
            "type": "barpolar"
           }
          ],
          "carpet": [
           {
            "aaxis": {
             "endlinecolor": "#2a3f5f",
             "gridcolor": "white",
             "linecolor": "white",
             "minorgridcolor": "white",
             "startlinecolor": "#2a3f5f"
            },
            "baxis": {
             "endlinecolor": "#2a3f5f",
             "gridcolor": "white",
             "linecolor": "white",
             "minorgridcolor": "white",
             "startlinecolor": "#2a3f5f"
            },
            "type": "carpet"
           }
          ],
          "choropleth": [
           {
            "colorbar": {
             "outlinewidth": 0,
             "ticks": ""
            },
            "type": "choropleth"
           }
          ],
          "contour": [
           {
            "colorbar": {
             "outlinewidth": 0,
             "ticks": ""
            },
            "colorscale": [
             [
              0,
              "#0d0887"
             ],
             [
              0.1111111111111111,
              "#46039f"
             ],
             [
              0.2222222222222222,
              "#7201a8"
             ],
             [
              0.3333333333333333,
              "#9c179e"
             ],
             [
              0.4444444444444444,
              "#bd3786"
             ],
             [
              0.5555555555555556,
              "#d8576b"
             ],
             [
              0.6666666666666666,
              "#ed7953"
             ],
             [
              0.7777777777777778,
              "#fb9f3a"
             ],
             [
              0.8888888888888888,
              "#fdca26"
             ],
             [
              1,
              "#f0f921"
             ]
            ],
            "type": "contour"
           }
          ],
          "contourcarpet": [
           {
            "colorbar": {
             "outlinewidth": 0,
             "ticks": ""
            },
            "type": "contourcarpet"
           }
          ],
          "heatmap": [
           {
            "colorbar": {
             "outlinewidth": 0,
             "ticks": ""
            },
            "colorscale": [
             [
              0,
              "#0d0887"
             ],
             [
              0.1111111111111111,
              "#46039f"
             ],
             [
              0.2222222222222222,
              "#7201a8"
             ],
             [
              0.3333333333333333,
              "#9c179e"
             ],
             [
              0.4444444444444444,
              "#bd3786"
             ],
             [
              0.5555555555555556,
              "#d8576b"
             ],
             [
              0.6666666666666666,
              "#ed7953"
             ],
             [
              0.7777777777777778,
              "#fb9f3a"
             ],
             [
              0.8888888888888888,
              "#fdca26"
             ],
             [
              1,
              "#f0f921"
             ]
            ],
            "type": "heatmap"
           }
          ],
          "histogram": [
           {
            "marker": {
             "pattern": {
              "fillmode": "overlay",
              "size": 10,
              "solidity": 0.2
             }
            },
            "type": "histogram"
           }
          ],
          "histogram2d": [
           {
            "colorbar": {
             "outlinewidth": 0,
             "ticks": ""
            },
            "colorscale": [
             [
              0,
              "#0d0887"
             ],
             [
              0.1111111111111111,
              "#46039f"
             ],
             [
              0.2222222222222222,
              "#7201a8"
             ],
             [
              0.3333333333333333,
              "#9c179e"
             ],
             [
              0.4444444444444444,
              "#bd3786"
             ],
             [
              0.5555555555555556,
              "#d8576b"
             ],
             [
              0.6666666666666666,
              "#ed7953"
             ],
             [
              0.7777777777777778,
              "#fb9f3a"
             ],
             [
              0.8888888888888888,
              "#fdca26"
             ],
             [
              1,
              "#f0f921"
             ]
            ],
            "type": "histogram2d"
           }
          ],
          "histogram2dcontour": [
           {
            "colorbar": {
             "outlinewidth": 0,
             "ticks": ""
            },
            "colorscale": [
             [
              0,
              "#0d0887"
             ],
             [
              0.1111111111111111,
              "#46039f"
             ],
             [
              0.2222222222222222,
              "#7201a8"
             ],
             [
              0.3333333333333333,
              "#9c179e"
             ],
             [
              0.4444444444444444,
              "#bd3786"
             ],
             [
              0.5555555555555556,
              "#d8576b"
             ],
             [
              0.6666666666666666,
              "#ed7953"
             ],
             [
              0.7777777777777778,
              "#fb9f3a"
             ],
             [
              0.8888888888888888,
              "#fdca26"
             ],
             [
              1,
              "#f0f921"
             ]
            ],
            "type": "histogram2dcontour"
           }
          ],
          "mesh3d": [
           {
            "colorbar": {
             "outlinewidth": 0,
             "ticks": ""
            },
            "type": "mesh3d"
           }
          ],
          "parcoords": [
           {
            "line": {
             "colorbar": {
              "outlinewidth": 0,
              "ticks": ""
             }
            },
            "type": "parcoords"
           }
          ],
          "pie": [
           {
            "automargin": true,
            "type": "pie"
           }
          ],
          "scatter": [
           {
            "fillpattern": {
             "fillmode": "overlay",
             "size": 10,
             "solidity": 0.2
            },
            "type": "scatter"
           }
          ],
          "scatter3d": [
           {
            "line": {
             "colorbar": {
              "outlinewidth": 0,
              "ticks": ""
             }
            },
            "marker": {
             "colorbar": {
              "outlinewidth": 0,
              "ticks": ""
             }
            },
            "type": "scatter3d"
           }
          ],
          "scattercarpet": [
           {
            "marker": {
             "colorbar": {
              "outlinewidth": 0,
              "ticks": ""
             }
            },
            "type": "scattercarpet"
           }
          ],
          "scattergeo": [
           {
            "marker": {
             "colorbar": {
              "outlinewidth": 0,
              "ticks": ""
             }
            },
            "type": "scattergeo"
           }
          ],
          "scattergl": [
           {
            "marker": {
             "colorbar": {
              "outlinewidth": 0,
              "ticks": ""
             }
            },
            "type": "scattergl"
           }
          ],
          "scattermap": [
           {
            "marker": {
             "colorbar": {
              "outlinewidth": 0,
              "ticks": ""
             }
            },
            "type": "scattermap"
           }
          ],
          "scattermapbox": [
           {
            "marker": {
             "colorbar": {
              "outlinewidth": 0,
              "ticks": ""
             }
            },
            "type": "scattermapbox"
           }
          ],
          "scatterpolar": [
           {
            "marker": {
             "colorbar": {
              "outlinewidth": 0,
              "ticks": ""
             }
            },
            "type": "scatterpolar"
           }
          ],
          "scatterpolargl": [
           {
            "marker": {
             "colorbar": {
              "outlinewidth": 0,
              "ticks": ""
             }
            },
            "type": "scatterpolargl"
           }
          ],
          "scatterternary": [
           {
            "marker": {
             "colorbar": {
              "outlinewidth": 0,
              "ticks": ""
             }
            },
            "type": "scatterternary"
           }
          ],
          "surface": [
           {
            "colorbar": {
             "outlinewidth": 0,
             "ticks": ""
            },
            "colorscale": [
             [
              0,
              "#0d0887"
             ],
             [
              0.1111111111111111,
              "#46039f"
             ],
             [
              0.2222222222222222,
              "#7201a8"
             ],
             [
              0.3333333333333333,
              "#9c179e"
             ],
             [
              0.4444444444444444,
              "#bd3786"
             ],
             [
              0.5555555555555556,
              "#d8576b"
             ],
             [
              0.6666666666666666,
              "#ed7953"
             ],
             [
              0.7777777777777778,
              "#fb9f3a"
             ],
             [
              0.8888888888888888,
              "#fdca26"
             ],
             [
              1,
              "#f0f921"
             ]
            ],
            "type": "surface"
           }
          ],
          "table": [
           {
            "cells": {
             "fill": {
              "color": "#EBF0F8"
             },
             "line": {
              "color": "white"
             }
            },
            "header": {
             "fill": {
              "color": "#C8D4E3"
             },
             "line": {
              "color": "white"
             }
            },
            "type": "table"
           }
          ]
         },
         "layout": {
          "annotationdefaults": {
           "arrowcolor": "#2a3f5f",
           "arrowhead": 0,
           "arrowwidth": 1
          },
          "autotypenumbers": "strict",
          "coloraxis": {
           "colorbar": {
            "outlinewidth": 0,
            "ticks": ""
           }
          },
          "colorscale": {
           "diverging": [
            [
             0,
             "#8e0152"
            ],
            [
             0.1,
             "#c51b7d"
            ],
            [
             0.2,
             "#de77ae"
            ],
            [
             0.3,
             "#f1b6da"
            ],
            [
             0.4,
             "#fde0ef"
            ],
            [
             0.5,
             "#f7f7f7"
            ],
            [
             0.6,
             "#e6f5d0"
            ],
            [
             0.7,
             "#b8e186"
            ],
            [
             0.8,
             "#7fbc41"
            ],
            [
             0.9,
             "#4d9221"
            ],
            [
             1,
             "#276419"
            ]
           ],
           "sequential": [
            [
             0,
             "#0d0887"
            ],
            [
             0.1111111111111111,
             "#46039f"
            ],
            [
             0.2222222222222222,
             "#7201a8"
            ],
            [
             0.3333333333333333,
             "#9c179e"
            ],
            [
             0.4444444444444444,
             "#bd3786"
            ],
            [
             0.5555555555555556,
             "#d8576b"
            ],
            [
             0.6666666666666666,
             "#ed7953"
            ],
            [
             0.7777777777777778,
             "#fb9f3a"
            ],
            [
             0.8888888888888888,
             "#fdca26"
            ],
            [
             1,
             "#f0f921"
            ]
           ],
           "sequentialminus": [
            [
             0,
             "#0d0887"
            ],
            [
             0.1111111111111111,
             "#46039f"
            ],
            [
             0.2222222222222222,
             "#7201a8"
            ],
            [
             0.3333333333333333,
             "#9c179e"
            ],
            [
             0.4444444444444444,
             "#bd3786"
            ],
            [
             0.5555555555555556,
             "#d8576b"
            ],
            [
             0.6666666666666666,
             "#ed7953"
            ],
            [
             0.7777777777777778,
             "#fb9f3a"
            ],
            [
             0.8888888888888888,
             "#fdca26"
            ],
            [
             1,
             "#f0f921"
            ]
           ]
          },
          "colorway": [
           "#636efa",
           "#EF553B",
           "#00cc96",
           "#ab63fa",
           "#FFA15A",
           "#19d3f3",
           "#FF6692",
           "#B6E880",
           "#FF97FF",
           "#FECB52"
          ],
          "font": {
           "color": "#2a3f5f"
          },
          "geo": {
           "bgcolor": "white",
           "lakecolor": "white",
           "landcolor": "#E5ECF6",
           "showlakes": true,
           "showland": true,
           "subunitcolor": "white"
          },
          "hoverlabel": {
           "align": "left"
          },
          "hovermode": "closest",
          "mapbox": {
           "style": "light"
          },
          "paper_bgcolor": "white",
          "plot_bgcolor": "#E5ECF6",
          "polar": {
           "angularaxis": {
            "gridcolor": "white",
            "linecolor": "white",
            "ticks": ""
           },
           "bgcolor": "#E5ECF6",
           "radialaxis": {
            "gridcolor": "white",
            "linecolor": "white",
            "ticks": ""
           }
          },
          "scene": {
           "xaxis": {
            "backgroundcolor": "#E5ECF6",
            "gridcolor": "white",
            "gridwidth": 2,
            "linecolor": "white",
            "showbackground": true,
            "ticks": "",
            "zerolinecolor": "white"
           },
           "yaxis": {
            "backgroundcolor": "#E5ECF6",
            "gridcolor": "white",
            "gridwidth": 2,
            "linecolor": "white",
            "showbackground": true,
            "ticks": "",
            "zerolinecolor": "white"
           },
           "zaxis": {
            "backgroundcolor": "#E5ECF6",
            "gridcolor": "white",
            "gridwidth": 2,
            "linecolor": "white",
            "showbackground": true,
            "ticks": "",
            "zerolinecolor": "white"
           }
          },
          "shapedefaults": {
           "line": {
            "color": "#2a3f5f"
           }
          },
          "ternary": {
           "aaxis": {
            "gridcolor": "white",
            "linecolor": "white",
            "ticks": ""
           },
           "baxis": {
            "gridcolor": "white",
            "linecolor": "white",
            "ticks": ""
           },
           "bgcolor": "#E5ECF6",
           "caxis": {
            "gridcolor": "white",
            "linecolor": "white",
            "ticks": ""
           }
          },
          "title": {
           "x": 0.05
          },
          "xaxis": {
           "automargin": true,
           "gridcolor": "white",
           "linecolor": "white",
           "ticks": "",
           "title": {
            "standoff": 15
           },
           "zerolinecolor": "white",
           "zerolinewidth": 2
          },
          "yaxis": {
           "automargin": true,
           "gridcolor": "white",
           "linecolor": "white",
           "ticks": "",
           "title": {
            "standoff": 15
           },
           "zerolinecolor": "white",
           "zerolinewidth": 2
          }
         }
        },
        "title": {
         "text": "Company Count by Country"
        },
        "xaxis": {
         "anchor": "y",
         "domain": [
          0,
          1
         ],
         "title": {
          "text": "country"
         }
        },
        "yaxis": {
         "anchor": "x",
         "domain": [
          0,
          1
         ],
         "title": {
          "text": "count"
         }
        }
       }
      }
     },
     "metadata": {},
     "output_type": "display_data"
    }
   ],
   "source": [
    "# Create a plotly bar chart of the country distribution for companies in dataset\n",
    "fig = px.bar(country_counts, x=\"country\", y=\"count\", title=\"Company Count by Country\")\n",
    "fig.show()"
   ]
  },
  {
   "cell_type": "code",
   "execution_count": 35,
   "id": "3b08f97d",
   "metadata": {},
   "outputs": [
    {
     "data": {
      "image/png": "[encoded data removed]",
      "text/plain": [
       "<Figure size 1000x600 with 1 Axes>"
      ]
     },
     "metadata": {},
     "output_type": "display_data"
    }
   ],
   "source": [
    "# Sort values for clearer visualization (optional)\n",
    "country_counts_sorted = country_counts.sort_values(by=\"count\", ascending=False)\n",
    "\n",
    "# Create the bar chart\n",
    "plt.figure(figsize=(10, 6))\n",
    "plt.bar(country_counts_sorted[\"country\"], country_counts_sorted[\"count\"], color=\"cornflowerblue\")\n",
    "\n",
    "# Add labels and title\n",
    "plt.xlabel(\"Country\")\n",
    "plt.ylabel(\"Number of Companies\")\n",
    "plt.title(\"Company Count by Country\")\n",
    "plt.xticks(rotation=45, ha=\"right\")\n",
    "plt.tight_layout()\n",
    "\n",
    "# Show the plot\n",
    "plt.show()"
   ]
  }
 ],
 "metadata": {
  "editor": "DataLab",
  "kernelspec": {
   "display_name": "Python 3",
   "language": "python",
   "name": "python3"
  },
  "language_info": {
   "codemirror_mode": {
    "name": "ipython",
    "version": 3
   },
   "file_extension": ".py",
   "mimetype": "text/x-python",
   "name": "python",
   "nbconvert_exporter": "python",
   "pygments_lexer": "ipython3",
   "version": "3.12.1"
  }
 },
 "nbformat": 4,
 "nbformat_minor": 5
}
